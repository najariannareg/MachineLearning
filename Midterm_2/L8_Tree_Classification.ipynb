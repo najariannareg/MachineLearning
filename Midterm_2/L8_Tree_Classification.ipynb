{
 "cells": [
  {
   "cell_type": "code",
   "execution_count": 21,
   "metadata": {},
   "outputs": [],
   "source": [
    "import numpy as np\n",
    "import pandas as pd\n",
    "\n",
    "import matplotlib.pyplot as plt\n",
    "from sklearn.metrics import accuracy_score\n",
    "from sklearn.metrics import precision_score\n",
    "from sklearn.metrics import recall_score\n",
    "from sklearn.metrics import confusion_matrix\n",
    "from sklearn.metrics import auc\n",
    "from sklearn.metrics import roc_curve\n",
    "from sklearn.metrics import precision_recall_curve\n",
    "from sklearn.model_selection import train_test_split\n",
    "from sklearn.model_selection import cross_val_score\n",
    "from sklearn.metrics import classification_report\n",
    "from sklearn.datasets import make_regression\n",
    "from sklearn.datasets import make_classification\n",
    "from sklearn.datasets import make_gaussian_quantiles\n",
    "\n",
    "from sklearn.ensemble import GradientBoostingClassifier\n",
    "from sklearn.ensemble import AdaBoostClassifier, RandomForestClassifier\n",
    "from sklearn.tree import DecisionTreeClassifier"
   ]
  },
  {
   "cell_type": "code",
   "execution_count": 36,
   "metadata": {},
   "outputs": [],
   "source": [
    "def Decision_Boundary(model, X, y, n_points, n_classes, colors, class_names):\n",
    "    \n",
    "    xmin, xmax = np.min(X[:,0]), np.max(X[:,0])\n",
    "    ymin, ymax = np.min(X[:,1]), np.max(X[:,1])\n",
    "    x_grid = np.linspace(xmin, xmax, n_points)\n",
    "    y_grid = np.linspace(ymin, ymax, n_points)\n",
    "    xy_grid_x, xy_grid_y = np.meshgrid(x_grid, y_grid)\n",
    "    xy_grid = np.array([xy_grid_x.ravel(), xy_grid_y.ravel()]).T\n",
    "    predict_labels = model.predict(xy_grid)\n",
    "    labels = range(n_classes)\n",
    "    tt = zip(colors, class_names, labels)\n",
    "    \n",
    "    plt.figure (figsize = (20,10))\n",
    "    plt.contourf(xy_grid_x, xy_grid_y,  predict_labels.reshape(n_points,n_points), cmap = plt.cm.Paired, alpha = 0.5)\n",
    "    for colors, class_names, labels in tt:\n",
    "        idx = np.where(y == labels)\n",
    "        plt.scatter(X[idx,0],X[idx,1], label = class_names, c = colors, s = 40, edgecolor = 'k',cmap = plt.cm.copper)\n",
    "    plt.legend()\n",
    "    plt.xlim(xmin-1, xmax+1)\n",
    "    plt.ylim(ymin-1, ymax+1)\n",
    "    plt.show()"
   ]
  },
  {
   "cell_type": "code",
   "execution_count": 4,
   "metadata": {},
   "outputs": [
    {
     "name": "stdout",
     "output_type": "stream",
     "text": [
      "(10000, 12)\n",
      "(10000,)\n"
     ]
    }
   ],
   "source": [
    "X,y = make_classification(n_samples = 10000, n_features = 12, \n",
    "                     n_informative = 10, n_classes = 5, random_state = 0)\n",
    "print(X.shape)\n",
    "print(y.shape)"
   ]
  },
  {
   "cell_type": "code",
   "execution_count": 5,
   "metadata": {},
   "outputs": [],
   "source": [
    "X_train, X_test, Y_train, Y_test = train_test_split(X,y,test_size = 0.3)"
   ]
  },
  {
   "cell_type": "code",
   "execution_count": 7,
   "metadata": {},
   "outputs": [
    {
     "name": "stdout",
     "output_type": "stream",
     "text": [
      "j-> 2 Mean-> 0.386\n",
      "j-> 3 Mean-> 0.4272857142857143\n",
      "j-> 4 Mean-> 0.4774285714285714\n",
      "j-> 5 Mean-> 0.5267142857142858\n",
      "j-> 6 Mean-> 0.5767142857142857\n",
      "j-> 7 Mean-> 0.6085714285714285\n",
      "j-> 8 Mean-> 0.6275714285714287\n",
      "j-> 9 Mean-> 0.6361428571428572\n",
      "j-> 10 Mean-> 0.6484285714285715\n",
      "j-> 11 Mean-> 0.6488571428571428\n",
      "j-> 12 Mean-> 0.6488571428571428\n",
      "j-> 13 Mean-> 0.649\n",
      "j-> 14 Mean-> 0.6458571428571428\n",
      "j-> 15 Mean-> 0.6455714285714286\n",
      "j-> 16 Mean-> 0.6472857142857144\n",
      "j-> 17 Mean-> 0.6445714285714286\n",
      "j-> 18 Mean-> 0.643\n",
      "j-> 19 Mean-> 0.6401428571428571\n",
      "j-> 20 Mean-> 0.6468571428571429\n",
      "j-> 21 Mean-> 0.6398571428571429\n"
     ]
    },
    {
     "data": {
      "text/plain": [
       "13"
      ]
     },
     "execution_count": 7,
     "metadata": {},
     "output_type": "execute_result"
    }
   ],
   "source": [
    "score = np.array([])\n",
    "for j in np.arange(20) + 2:\n",
    "    mod_tree = DecisionTreeClassifier(max_depth = j)\n",
    "    mod_cv = cross_val_score(mod_tree, X_train,Y_train, \n",
    "                             cv = 10)\n",
    "    score = np.append(score, np.mean(mod_cv))\n",
    "    print(\"j->\", j, \"Mean->\", np.mean(mod_cv))\n",
    "param = np.argmax(score) + 2\n",
    "param"
   ]
  },
  {
   "cell_type": "code",
   "execution_count": 8,
   "metadata": {},
   "outputs": [
    {
     "name": "stdout",
     "output_type": "stream",
     "text": [
      "13\n",
      "Accuracy - >  0.6586666666666666\n"
     ]
    }
   ],
   "source": [
    "mod_tree = DecisionTreeClassifier(max_depth = param)\n",
    "mod_tree.fit(X_train,Y_train)\n",
    "accuracy = mod_tree.score(X_test,Y_test)\n",
    "print(param)\n",
    "print(\"Accuracy - > \", accuracy)"
   ]
  },
  {
   "cell_type": "code",
   "execution_count": 9,
   "metadata": {},
   "outputs": [
    {
     "name": "stdout",
     "output_type": "stream",
     "text": [
      "              precision    recall  f1-score   support\n",
      "\n",
      "           0       0.93      0.96      0.94      1381\n",
      "           1       0.94      0.95      0.94      1387\n",
      "           2       0.96      0.96      0.96      1406\n",
      "           3       0.97      0.94      0.95      1413\n",
      "           4       0.95      0.95      0.95      1413\n",
      "\n",
      "    accuracy                           0.95      7000\n",
      "   macro avg       0.95      0.95      0.95      7000\n",
      "weighted avg       0.95      0.95      0.95      7000\n",
      "\n"
     ]
    }
   ],
   "source": [
    "Y_predict = mod_tree.predict(X_train)\n",
    "print(classification_report(Y_train, Y_predict))"
   ]
  },
  {
   "cell_type": "code",
   "execution_count": 10,
   "metadata": {},
   "outputs": [
    {
     "name": "stdout",
     "output_type": "stream",
     "text": [
      "              precision    recall  f1-score   support\n",
      "\n",
      "           0       0.67      0.66      0.66       616\n",
      "           1       0.64      0.61      0.62       612\n",
      "           2       0.70      0.71      0.70       599\n",
      "           3       0.67      0.70      0.69       588\n",
      "           4       0.62      0.62      0.62       585\n",
      "\n",
      "    accuracy                           0.66      3000\n",
      "   macro avg       0.66      0.66      0.66      3000\n",
      "weighted avg       0.66      0.66      0.66      3000\n",
      "\n"
     ]
    }
   ],
   "source": [
    "Y_predict = mod_tree.predict(X_test)\n",
    "print(classification_report(Y_test, Y_predict))"
   ]
  },
  {
   "cell_type": "code",
   "execution_count": 14,
   "metadata": {},
   "outputs": [
    {
     "name": "stdout",
     "output_type": "stream",
     "text": [
      "j-> 2 Mean-> 0.679\n",
      "j-> 3 Mean-> 0.7470000000000001\n",
      "j-> 4 Mean-> 0.7867142857142857\n",
      "j-> 5 Mean-> 0.808\n",
      "j-> 6 Mean-> 0.8184285714285714\n",
      "j-> 7 Mean-> 0.8227142857142858\n",
      "j-> 8 Mean-> 0.8271428571428572\n",
      "j-> 9 Mean-> 0.8288571428571428\n"
     ]
    },
    {
     "data": {
      "text/plain": [
       "9"
      ]
     },
     "execution_count": 14,
     "metadata": {},
     "output_type": "execute_result"
    }
   ],
   "source": [
    "score = np.array([])\n",
    "for j in np.arange(8) + 2:\n",
    "    mod_grad = GradientBoostingClassifier(max_depth = j)\n",
    "    mod_cv = cross_val_score(mod_grad, X_train,Y_train, \n",
    "                             cv = 10)\n",
    "    score = np.append(score, np.mean(mod_cv))\n",
    "    print(\"j->\", j, \"Mean->\", np.mean(mod_cv))\n",
    "param = np.argmax(score) + 2\n",
    "param"
   ]
  },
  {
   "cell_type": "code",
   "execution_count": 15,
   "metadata": {},
   "outputs": [
    {
     "name": "stdout",
     "output_type": "stream",
     "text": [
      "9\n",
      "Error - >  0.8296666666666667\n"
     ]
    }
   ],
   "source": [
    "mod_grad = GradientBoostingClassifier(max_depth = param)\n",
    "mod_grad.fit(X_train,Y_train)\n",
    "error = mod_grad.score(X_test,Y_test)\n",
    "print(param)\n",
    "print(\"Error - > \", error)"
   ]
  },
  {
   "cell_type": "code",
   "execution_count": 17,
   "metadata": {},
   "outputs": [
    {
     "name": "stdout",
     "output_type": "stream",
     "text": [
      "              precision    recall  f1-score   support\n",
      "\n",
      "           0       1.00      1.00      1.00      1381\n",
      "           1       1.00      1.00      1.00      1387\n",
      "           2       1.00      1.00      1.00      1406\n",
      "           3       1.00      1.00      1.00      1413\n",
      "           4       1.00      1.00      1.00      1413\n",
      "\n",
      "    accuracy                           1.00      7000\n",
      "   macro avg       1.00      1.00      1.00      7000\n",
      "weighted avg       1.00      1.00      1.00      7000\n",
      "\n"
     ]
    }
   ],
   "source": [
    "Y_predict = mod_grad.predict(X_train)\n",
    "print(classification_report(Y_train, Y_predict))"
   ]
  },
  {
   "cell_type": "code",
   "execution_count": 19,
   "metadata": {},
   "outputs": [
    {
     "name": "stdout",
     "output_type": "stream",
     "text": [
      "              precision    recall  f1-score   support\n",
      "\n",
      "           0       0.85      0.81      0.83       616\n",
      "           1       0.82      0.80      0.81       612\n",
      "           2       0.87      0.87      0.87       599\n",
      "           3       0.83      0.83      0.83       588\n",
      "           4       0.78      0.84      0.81       585\n",
      "\n",
      "    accuracy                           0.83      3000\n",
      "   macro avg       0.83      0.83      0.83      3000\n",
      "weighted avg       0.83      0.83      0.83      3000\n",
      "\n"
     ]
    }
   ],
   "source": [
    "Y_predict = mod_grad.predict(X_test)\n",
    "print(classification_report(Y_test, Y_predict))"
   ]
  },
  {
   "cell_type": "code",
   "execution_count": 24,
   "metadata": {},
   "outputs": [
    {
     "name": "stdout",
     "output_type": "stream",
     "text": [
      "j-> 10 Mean-> 0.7956\n",
      "j-> 11 Mean-> 0.8101\n",
      "j-> 12 Mean-> 0.8173\n",
      "j-> 13 Mean-> 0.8241\n",
      "j-> 14 Mean-> 0.8257\n",
      "j-> 15 Mean-> 0.8277\n",
      "j-> 16 Mean-> 0.8316\n",
      "j-> 17 Mean-> 0.8322\n",
      "j-> 18 Mean-> 0.8341\n",
      "j-> 19 Mean-> 0.8327\n",
      "j-> 20 Mean-> 0.8324\n",
      "j-> 21 Mean-> 0.832\n",
      "j-> 22 Mean-> 0.8359\n",
      "j-> 23 Mean-> 0.8314\n",
      "j-> 24 Mean-> 0.8349\n",
      "j-> 25 Mean-> 0.834\n",
      "j-> 26 Mean-> 0.8341\n",
      "j-> 27 Mean-> 0.8337\n",
      "j-> 28 Mean-> 0.8338\n",
      "j-> 29 Mean-> 0.8348\n",
      "j-> 30 Mean-> 0.832\n",
      "j-> 31 Mean-> 0.8345\n",
      "j-> 32 Mean-> 0.831\n",
      "j-> 33 Mean-> 0.8323\n",
      "j-> 34 Mean-> 0.8331\n"
     ]
    },
    {
     "data": {
      "text/plain": [
       "15"
      ]
     },
     "execution_count": 24,
     "metadata": {},
     "output_type": "execute_result"
    }
   ],
   "source": [
    "score = np.array([])\n",
    "for j in np.arange(25) + 10:\n",
    "    mod_forest = RandomForestClassifier(max_depth = j,\n",
    "                                             max_features = 4,\n",
    "                                             n_estimators = 200,\n",
    "                                             oob_score = True)\n",
    "    mod_forest.fit(X,y)\n",
    "    error = np.append(error, mod_forest.oob_score_)\n",
    "    print(\"j->\", j, \"Mean->\", mod_forest.oob_score_)\n",
    "param = np.argmax(error) + 2\n",
    "param"
   ]
  },
  {
   "cell_type": "code",
   "execution_count": 25,
   "metadata": {},
   "outputs": [
    {
     "name": "stdout",
     "output_type": "stream",
     "text": [
      "15\n",
      "Error - >  0.9956666666666667\n"
     ]
    }
   ],
   "source": [
    "mod_forest = RandomForestClassifier(max_depth = param,\n",
    "                                             max_features = 4,\n",
    "                                             n_estimators = 100,\n",
    "                                             oob_score = True)\n",
    "mod_forest.fit(X,y)\n",
    "error = mod_forest.score(X_test,Y_test)\n",
    "print(param)\n",
    "print(\"Error - > \", error)"
   ]
  },
  {
   "cell_type": "code",
   "execution_count": 27,
   "metadata": {},
   "outputs": [
    {
     "name": "stdout",
     "output_type": "stream",
     "text": [
      "              precision    recall  f1-score   support\n",
      "\n",
      "           0       0.99      1.00      1.00      1381\n",
      "           1       1.00      1.00      1.00      1387\n",
      "           2       1.00      1.00      1.00      1406\n",
      "           3       1.00      1.00      1.00      1413\n",
      "           4       1.00      1.00      1.00      1413\n",
      "\n",
      "    accuracy                           1.00      7000\n",
      "   macro avg       1.00      1.00      1.00      7000\n",
      "weighted avg       1.00      1.00      1.00      7000\n",
      "\n"
     ]
    }
   ],
   "source": [
    "Y_predict = mod_forest.predict(X_train)\n",
    "print(classification_report(Y_train, Y_predict))"
   ]
  },
  {
   "cell_type": "code",
   "execution_count": 28,
   "metadata": {},
   "outputs": [
    {
     "name": "stdout",
     "output_type": "stream",
     "text": [
      "              precision    recall  f1-score   support\n",
      "\n",
      "           0       0.99      1.00      0.99       616\n",
      "           1       1.00      1.00      1.00       612\n",
      "           2       0.99      0.99      0.99       599\n",
      "           3       1.00      0.99      0.99       588\n",
      "           4       1.00      0.99      0.99       585\n",
      "\n",
      "    accuracy                           1.00      3000\n",
      "   macro avg       1.00      1.00      1.00      3000\n",
      "weighted avg       1.00      1.00      1.00      3000\n",
      "\n"
     ]
    }
   ],
   "source": [
    "Y_predict = mod_forest.predict(X_test)\n",
    "print(classification_report(Y_test, Y_predict))"
   ]
  },
  {
   "cell_type": "code",
   "execution_count": 30,
   "metadata": {},
   "outputs": [
    {
     "name": "stdout",
     "output_type": "stream",
     "text": [
      "j-> 2 Mean-> 0.6435714285714286\n",
      "j-> 3 Mean-> 0.6858571428571428\n",
      "j-> 4 Mean-> 0.7065714285714285\n",
      "j-> 5 Mean-> 0.7255714285714285\n",
      "j-> 6 Mean-> 0.7612857142857142\n",
      "j-> 7 Mean-> 0.7895714285714286\n",
      "j-> 8 Mean-> 0.8099999999999999\n",
      "j-> 9 Mean-> 0.8145714285714286\n",
      "j-> 10 Mean-> 0.8267142857142856\n",
      "j-> 11 Mean-> 0.8331428571428571\n",
      "j-> 12 Mean-> 0.8338571428571429\n",
      "j-> 13 Mean-> 0.8384285714285713\n",
      "j-> 14 Mean-> 0.8371428571428572\n",
      "j-> 15 Mean-> 0.8397142857142856\n",
      "j-> 16 Mean-> 0.8411428571428573\n",
      "j-> 17 Mean-> 0.8379999999999999\n",
      "j-> 18 Mean-> 0.8427142857142856\n",
      "j-> 19 Mean-> 0.8428571428571429\n",
      "j-> 20 Mean-> 0.7938571428571428\n",
      "j-> 21 Mean-> 0.7567142857142858\n"
     ]
    },
    {
     "data": {
      "text/plain": [
       "19"
      ]
     },
     "execution_count": 30,
     "metadata": {},
     "output_type": "execute_result"
    }
   ],
   "source": [
    "score = np.array([])\n",
    "for j in np.arange(20) + 2:\n",
    "    mod_ada = AdaBoostClassifier(DecisionTreeClassifier(max_depth = j), \n",
    "                                         n_estimators = 100)\n",
    "    mod_cv = cross_val_score(mod_ada, X_train,Y_train, \n",
    "                             cv = 10)\n",
    "    score = np.append(score, np.mean(mod_cv))\n",
    "    print(\"j->\", j, \"Mean->\", np.mean(mod_cv))\n",
    "param = np.argmax(score) + 2\n",
    "param"
   ]
  },
  {
   "cell_type": "code",
   "execution_count": 34,
   "metadata": {},
   "outputs": [
    {
     "name": "stdout",
     "output_type": "stream",
     "text": [
      "19\n",
      "Error - >  0.851\n"
     ]
    }
   ],
   "source": [
    "mod_ada = AdaBoostClassifier(DecisionTreeClassifier(max_depth = param), \n",
    "                                         n_estimators = 100)\n",
    "mod_ada.fit(X_train,Y_train)\n",
    "error = mod_ada.score(X_test,Y_test)\n",
    "print(param)\n",
    "print(\"Error - > \", error)"
   ]
  },
  {
   "cell_type": "code",
   "execution_count": 55,
   "metadata": {},
   "outputs": [
    {
     "name": "stdout",
     "output_type": "stream",
     "text": [
      "(1000, 2)\n",
      "(1000,)\n"
     ]
    }
   ],
   "source": [
    "X,y = make_classification(n_samples = 1000, n_features = 2, n_classes = 4, random_state = 0, n_redundant = 0,\n",
    "                         n_clusters_per_class = 1,class_sep = 2)\n",
    "print(X.shape)\n",
    "print(y.shape)"
   ]
  },
  {
   "cell_type": "code",
   "execution_count": 58,
   "metadata": {},
   "outputs": [
    {
     "name": "stdout",
     "output_type": "stream",
     "text": [
      "19\n",
      "Error - >  0.988\n"
     ]
    }
   ],
   "source": [
    "mod_ada = AdaBoostClassifier(DecisionTreeClassifier(max_depth = 2), \n",
    "                                         n_estimators = 100)\n",
    "mod_ada.fit(X,y)\n",
    "error = mod_ada.score(X,y)\n",
    "print(param)\n",
    "print(\"Error - > \", error)"
   ]
  },
  {
   "cell_type": "code",
   "execution_count": 59,
   "metadata": {},
   "outputs": [
    {
     "data": {
      "image/png": "[encoded data removed]",
      "text/plain": [
       "<Figure size 1440x720 with 1 Axes>"
      ]
     },
     "metadata": {
      "needs_background": "light"
     },
     "output_type": "display_data"
    }
   ],
   "source": [
    "classes = 4 \n",
    "colors = 'rbgk'\n",
    "names = '0123'\n",
    "Decision_Boundary(mod_ada, X, y, n_points = 500, n_classes = classes, colors = colors, class_names = names)"
   ]
  },
  {
   "cell_type": "code",
   "execution_count": null,
   "metadata": {},
   "outputs": [],
   "source": []
  }
 ],
 "metadata": {
  "kernelspec": {
   "display_name": "Python 3",
   "language": "python",
   "name": "python3"
  },
  "language_info": {
   "codemirror_mode": {
    "name": "ipython",
    "version": 3
   },
   "file_extension": ".py",
   "mimetype": "text/x-python",
   "name": "python",
   "nbconvert_exporter": "python",
   "pygments_lexer": "ipython3",
   "version": "3.7.3"
  }
 },
 "nbformat": 4,
 "nbformat_minor": 2
}
