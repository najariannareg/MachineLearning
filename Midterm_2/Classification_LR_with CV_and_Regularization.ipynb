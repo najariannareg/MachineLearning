{
 "cells": [
  {
   "cell_type": "markdown",
   "metadata": {},
   "source": [
    "# Classification - Logistic Regression with Kfold CV and Regularization"
   ]
  },
  {
   "cell_type": "code",
   "execution_count": 1,
   "metadata": {},
   "outputs": [],
   "source": [
    "import numpy as np\n",
    "import pandas as pd\n",
    "import sklearn\n",
    "import matplotlib.pyplot as plt\n",
    "\n",
    "from sklearn.linear_model import LogisticRegression\n",
    "from sklearn.metrics import classification_report\n",
    "\n",
    "from sklearn.model_selection import train_test_split\n",
    "from sklearn.model_selection import KFold\n",
    "from sklearn.model_selection import cross_val_score"
   ]
  },
  {
   "cell_type": "code",
   "execution_count": 2,
   "metadata": {},
   "outputs": [
    {
     "data": {
      "text/html": [
       "<div>\n",
       "<style scoped>\n",
       "    .dataframe tbody tr th:only-of-type {\n",
       "        vertical-align: middle;\n",
       "    }\n",
       "\n",
       "    .dataframe tbody tr th {\n",
       "        vertical-align: top;\n",
       "    }\n",
       "\n",
       "    .dataframe thead th {\n",
       "        text-align: right;\n",
       "    }\n",
       "</style>\n",
       "<table border=\"1\" class=\"dataframe\">\n",
       "  <thead>\n",
       "    <tr style=\"text-align: right;\">\n",
       "      <th></th>\n",
       "      <th>default</th>\n",
       "      <th>student</th>\n",
       "      <th>balance</th>\n",
       "      <th>income</th>\n",
       "    </tr>\n",
       "  </thead>\n",
       "  <tbody>\n",
       "    <tr>\n",
       "      <th>0</th>\n",
       "      <td>No</td>\n",
       "      <td>No</td>\n",
       "      <td>729.526495</td>\n",
       "      <td>44361.62507</td>\n",
       "    </tr>\n",
       "    <tr>\n",
       "      <th>1</th>\n",
       "      <td>No</td>\n",
       "      <td>Yes</td>\n",
       "      <td>817.180407</td>\n",
       "      <td>12106.13470</td>\n",
       "    </tr>\n",
       "    <tr>\n",
       "      <th>2</th>\n",
       "      <td>No</td>\n",
       "      <td>No</td>\n",
       "      <td>1073.549164</td>\n",
       "      <td>31767.13895</td>\n",
       "    </tr>\n",
       "    <tr>\n",
       "      <th>3</th>\n",
       "      <td>No</td>\n",
       "      <td>No</td>\n",
       "      <td>529.250605</td>\n",
       "      <td>35704.49394</td>\n",
       "    </tr>\n",
       "    <tr>\n",
       "      <th>4</th>\n",
       "      <td>No</td>\n",
       "      <td>No</td>\n",
       "      <td>785.655883</td>\n",
       "      <td>38463.49588</td>\n",
       "    </tr>\n",
       "  </tbody>\n",
       "</table>\n",
       "</div>"
      ],
      "text/plain": [
       "  default student      balance       income\n",
       "0      No      No   729.526495  44361.62507\n",
       "1      No     Yes   817.180407  12106.13470\n",
       "2      No      No  1073.549164  31767.13895\n",
       "3      No      No   529.250605  35704.49394\n",
       "4      No      No   785.655883  38463.49588"
      ]
     },
     "execution_count": 2,
     "metadata": {},
     "output_type": "execute_result"
    }
   ],
   "source": [
    "data_default = pd.read_csv(\"Data/Default.csv\")\n",
    "data_default.drop(['Unnamed: 0'], axis = 1, inplace = True)\n",
    "data_default.head(5)"
   ]
  },
  {
   "cell_type": "code",
   "execution_count": 3,
   "metadata": {},
   "outputs": [
    {
     "data": {
      "text/html": [
       "<div>\n",
       "<style scoped>\n",
       "    .dataframe tbody tr th:only-of-type {\n",
       "        vertical-align: middle;\n",
       "    }\n",
       "\n",
       "    .dataframe tbody tr th {\n",
       "        vertical-align: top;\n",
       "    }\n",
       "\n",
       "    .dataframe thead th {\n",
       "        text-align: right;\n",
       "    }\n",
       "</style>\n",
       "<table border=\"1\" class=\"dataframe\">\n",
       "  <thead>\n",
       "    <tr style=\"text-align: right;\">\n",
       "      <th></th>\n",
       "      <th>balance</th>\n",
       "      <th>income</th>\n",
       "      <th>default_Yes</th>\n",
       "      <th>student_Yes</th>\n",
       "    </tr>\n",
       "  </thead>\n",
       "  <tbody>\n",
       "    <tr>\n",
       "      <th>0</th>\n",
       "      <td>729.526495</td>\n",
       "      <td>44361.62507</td>\n",
       "      <td>0</td>\n",
       "      <td>0</td>\n",
       "    </tr>\n",
       "    <tr>\n",
       "      <th>1</th>\n",
       "      <td>817.180407</td>\n",
       "      <td>12106.13470</td>\n",
       "      <td>0</td>\n",
       "      <td>1</td>\n",
       "    </tr>\n",
       "    <tr>\n",
       "      <th>2</th>\n",
       "      <td>1073.549164</td>\n",
       "      <td>31767.13895</td>\n",
       "      <td>0</td>\n",
       "      <td>0</td>\n",
       "    </tr>\n",
       "    <tr>\n",
       "      <th>3</th>\n",
       "      <td>529.250605</td>\n",
       "      <td>35704.49394</td>\n",
       "      <td>0</td>\n",
       "      <td>0</td>\n",
       "    </tr>\n",
       "    <tr>\n",
       "      <th>4</th>\n",
       "      <td>785.655883</td>\n",
       "      <td>38463.49588</td>\n",
       "      <td>0</td>\n",
       "      <td>0</td>\n",
       "    </tr>\n",
       "  </tbody>\n",
       "</table>\n",
       "</div>"
      ],
      "text/plain": [
       "       balance       income  default_Yes  student_Yes\n",
       "0   729.526495  44361.62507            0            0\n",
       "1   817.180407  12106.13470            0            1\n",
       "2  1073.549164  31767.13895            0            0\n",
       "3   529.250605  35704.49394            0            0\n",
       "4   785.655883  38463.49588            0            0"
      ]
     },
     "execution_count": 3,
     "metadata": {},
     "output_type": "execute_result"
    }
   ],
   "source": [
    "data_default_dummies = pd.get_dummies(data_default, drop_first = True)\n",
    "data_default_dummies.head(5)"
   ]
  },
  {
   "cell_type": "code",
   "execution_count": 4,
   "metadata": {},
   "outputs": [],
   "source": [
    "X = data_default_dummies.drop(['default_Yes'], axis = 1)\n",
    "y = data_default_dummies['default_Yes']\n",
    "y = y.values"
   ]
  },
  {
   "cell_type": "code",
   "execution_count": 5,
   "metadata": {},
   "outputs": [],
   "source": [
    "X_Train, X_test, y_train, y_test = train_test_split(X,y,test_size = 0.2, random_state = 4)"
   ]
  },
  {
   "cell_type": "code",
   "execution_count": 6,
   "metadata": {},
   "outputs": [
    {
     "name": "stdout",
     "output_type": "stream",
     "text": [
      "Train feature set shape: (8000, 3), Test feature set shape: (2000, 3) \n",
      "Train set labels shape: (8000,), Test set labels shape: (2000,) \n"
     ]
    }
   ],
   "source": [
    "print(\"Train feature set shape: %s, Test feature set shape: %s \" % (X_Train.shape, X_test.shape))\n",
    "print(\"Train set labels shape: %s, Test set labels shape: %s \" % (y_train.shape, y_test.shape))"
   ]
  },
  {
   "cell_type": "code",
   "execution_count": 7,
   "metadata": {},
   "outputs": [
    {
     "name": "stdout",
     "output_type": "stream",
     "text": [
      "C val: 0.0001, CV Score Avg: 0.9703750000000001 \n",
      "C val: 0.001, CV Score Avg: 0.9701250000000001 \n",
      "C val: 0.01, CV Score Avg: 0.9690000000000001 \n",
      "C val: 0.1, CV Score Avg: 0.9670000000000002 \n",
      "C val: 1, CV Score Avg: 0.9664999999999999 \n",
      "C val: 10, CV Score Avg: 0.9664999999999999 \n",
      "C val: 100, CV Score Avg: 0.9668749999999999 \n",
      "C val: 1000, CV Score Avg: 0.9668749999999999 \n"
     ]
    }
   ],
   "source": [
    "c_param_list = [0.0001, 0.001, 0.01, 0.1, 1, 10, 100, 1000]\n",
    "\n",
    "score_results = []\n",
    "\n",
    "for val in c_param_list:\n",
    "    log_reg = LogisticRegression(penalty = 'l2', C = val, solver = 'lbfgs')\n",
    "    kfold = KFold(n_splits=10)\n",
    "    score = cross_val_score(log_reg, X_Train, y_train, cv = kfold, scoring = \"accuracy\")\n",
    "    score_results.append(score)\n",
    "    print(\"C val: %s, CV Score Avg: %s \" % (val, np.mean(score)))"
   ]
  },
  {
   "cell_type": "code",
   "execution_count": 8,
   "metadata": {},
   "outputs": [
    {
     "data": {
      "image/png": "[encoded data removed]",
      "text/plain": [
       "<Figure size 1080x576 with 1 Axes>"
      ]
     },
     "metadata": {
      "needs_background": "light"
     },
     "output_type": "display_data"
    }
   ],
   "source": [
    "plt.figure(figsize = (15,8)) \n",
    "plt.plot(c_param_list, np.mean(np.array(score_results), axis = 1))\n",
    "plt.show()"
   ]
  },
  {
   "cell_type": "markdown",
   "metadata": {},
   "source": [
    "Check that maximum accuracy score is recorded at front part of the plot."
   ]
  },
  {
   "cell_type": "code",
   "execution_count": 9,
   "metadata": {},
   "outputs": [
    {
     "name": "stdout",
     "output_type": "stream",
     "text": [
      "Optimal Value of C: 0.0001\n"
     ]
    }
   ],
   "source": [
    "avg_cv_scores = np.mean(np.array(score_results), axis = 1)\n",
    "max_avg_accuracy_index = np.argmax(avg_cv_scores) #Get the index of element that comprises to max accuracy score\n",
    "print(\"Optimal Value of C: %s\" % c_param_list[max_avg_accuracy_index]) #Note: So optimal lambda=1/C"
   ]
  },
  {
   "cell_type": "code",
   "execution_count": 10,
   "metadata": {},
   "outputs": [
    {
     "name": "stdout",
     "output_type": "stream",
     "text": [
      "β1=0.005644304791233047, β2=2.0763972555154016e-05, β3=-0.0011376926980435336\n",
      "β0=-11.53407143326959\n",
      "Model Score: 0.9737\n"
     ]
    }
   ],
   "source": [
    "log_reg_optimal = LogisticRegression(penalty = 'l2', C = 0.0001, solver = 'lbfgs')\n",
    "opt_mod_log_reg = log_reg_optimal.fit(X,y)\n",
    "log_reg_optimal.fit(X,y)\n",
    "\n",
    "print(\"β1=%s, β2=%s, β3=%s\" % tuple(opt_mod_log_reg.coef_.ravel()))\n",
    "print(\"β0=%s\" % opt_mod_log_reg.intercept_[0])\n",
    "print(\"Model Score: %s\" % opt_mod_log_reg.score(X,y))\n",
    "\n",
    "y_pred = opt_mod_log_reg.predict(X)\n",
    "pred_prob = opt_mod_log_reg.predict_proba(X)"
   ]
  },
  {
   "cell_type": "code",
   "execution_count": 11,
   "metadata": {},
   "outputs": [
    {
     "name": "stdout",
     "output_type": "stream",
     "text": [
      "              precision    recall  f1-score   support\n",
      "\n",
      "           0   0.977167  0.996069  0.986527      9667\n",
      "           1   0.739726  0.324324  0.450939       333\n",
      "\n",
      "    accuracy                       0.973700     10000\n",
      "   macro avg   0.858446  0.660197  0.718733     10000\n",
      "weighted avg   0.969260  0.973700  0.968692     10000\n",
      "\n"
     ]
    }
   ],
   "source": [
    "print(classification_report(y, y_pred, digits = 6))"
   ]
  },
  {
   "cell_type": "markdown",
   "metadata": {},
   "source": [
    "#### Note: If you compare the classification reports of LR models with and withhout regularization application, you can see that we have a little bit improved precision and recall scores for class 1 predictions when we use regularization."
   ]
  }
 ],
 "metadata": {
  "kernelspec": {
   "display_name": "Python 3",
   "language": "python",
   "name": "python3"
  },
  "language_info": {
   "codemirror_mode": {
    "name": "ipython",
    "version": 3
   },
   "file_extension": ".py",
   "mimetype": "text/x-python",
   "name": "python",
   "nbconvert_exporter": "python",
   "pygments_lexer": "ipython3",
   "version": "3.7.4"
  }
 },
 "nbformat": 4,
 "nbformat_minor": 2
}
