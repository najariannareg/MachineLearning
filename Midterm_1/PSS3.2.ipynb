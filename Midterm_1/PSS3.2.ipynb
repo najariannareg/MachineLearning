{
 "cells": [
  {
   "cell_type": "code",
   "execution_count": 237,
   "metadata": {},
   "outputs": [],
   "source": [
    "import numpy as np\n",
    "import pandas as pd\n",
    "import matplotlib.pyplot as plt\n",
    "import seaborn as sns\n",
    "import statsmodels.formula.api as smf\n",
    "import statsmodels.api as sm\n",
    "from sklearn.linear_model import LinearRegression \n",
    "from sklearn.preprocessing import PolynomialFeatures\n",
    "import lmdiag\n",
    "\n",
    "# Suppress warnings \n",
    "import warnings\n",
    "warnings.filterwarnings('ignore')\n",
    "plt.style.use('seaborn')"
   ]
  },
  {
   "cell_type": "markdown",
   "metadata": {},
   "source": [
    "# Problem 0\n"
   ]
  },
  {
   "cell_type": "markdown",
   "metadata": {},
   "source": [
    "### a) Create a random vector X containing 100 observations drawn from a N(0, 1) distribution"
   ]
  },
  {
   "cell_type": "code",
   "execution_count": 238,
   "metadata": {},
   "outputs": [],
   "source": [
    "X = np.random.normal(0, 1, 100)"
   ]
  },
  {
   "cell_type": "markdown",
   "metadata": {},
   "source": [
    "### b) Create a vector e containing 100 observations drawn from a N(0, 0.25) distribution"
   ]
  },
  {
   "cell_type": "code",
   "execution_count": 239,
   "metadata": {},
   "outputs": [],
   "source": [
    "e = np.random.normal(0, 0.25, 100)"
   ]
  },
  {
   "cell_type": "markdown",
   "metadata": {},
   "source": [
    "### c) Generate a vector Y according to the model    Y = −1 + 0.5X + e"
   ]
  },
  {
   "cell_type": "code",
   "execution_count": 240,
   "metadata": {},
   "outputs": [],
   "source": [
    "Y = -1 + 0.5*X + e"
   ]
  },
  {
   "cell_type": "markdown",
   "metadata": {},
   "source": [
    "### d) Create a scatterplot displaying the relationship between X and Y. Comment on what you observe"
   ]
  },
  {
   "cell_type": "code",
   "execution_count": 241,
   "metadata": {},
   "outputs": [
    {
     "data": {
      "image/png": "[encoded data removed]",
      "text/plain": [
       "<Figure size 576x396 with 1 Axes>"
      ]
     },
     "metadata": {},
     "output_type": "display_data"
    }
   ],
   "source": [
    "plt.scatter(x=X, y=Y) # plotting the scatterplot of generated data\n",
    "plt.show()"
   ]
  },
  {
   "cell_type": "markdown",
   "metadata": {},
   "source": [
    "The graph shows a linear relationship"
   ]
  },
  {
   "cell_type": "markdown",
   "metadata": {},
   "source": [
    "### e) Fit a least squares linear model to predict Y using X.  \n",
    "Comment on the model obtained (p-values, accuracy measures, ...).  \n",
    "How do β̂ 0 and β̂ 1 compare to β0 and β1"
   ]
  },
  {
   "cell_type": "code",
   "execution_count": 242,
   "metadata": {},
   "outputs": [],
   "source": [
    "X_with_const = sm.add_constant(X) # adding constants vector of ones"
   ]
  },
  {
   "cell_type": "code",
   "execution_count": 243,
   "metadata": {},
   "outputs": [
    {
     "data": {
      "text/plain": [
       "array([[ 1.        , -1.2540471 ],\n",
       "       [ 1.        ,  0.40012534],\n",
       "       [ 1.        ,  0.66478769],\n",
       "       [ 1.        ,  0.59232061],\n",
       "       [ 1.        ,  2.29394881]])"
      ]
     },
     "execution_count": 243,
     "metadata": {},
     "output_type": "execute_result"
    }
   ],
   "source": [
    "X_with_const[:5,:] # look at the first 5 entries in X_with_const"
   ]
  },
  {
   "cell_type": "code",
   "execution_count": 244,
   "metadata": {},
   "outputs": [],
   "source": [
    "model1 = sm.OLS(Y, X_with_const).fit() # fit OLS model "
   ]
  },
  {
   "cell_type": "code",
   "execution_count": 245,
   "metadata": {},
   "outputs": [
    {
     "name": "stdout",
     "output_type": "stream",
     "text": [
      "                            OLS Regression Results                            \n",
      "==============================================================================\n",
      "Dep. Variable:                      y   R-squared:                       0.817\n",
      "Model:                            OLS   Adj. R-squared:                  0.815\n",
      "Method:                 Least Squares   F-statistic:                     438.5\n",
      "Date:                Tue, 11 Feb 2020   Prob (F-statistic):           5.86e-38\n",
      "Time:                        23:30:02   Log-Likelihood:                -10.922\n",
      "No. Observations:                 100   AIC:                             25.84\n",
      "Df Residuals:                      98   BIC:                             31.05\n",
      "Df Model:                           1                                         \n",
      "Covariance Type:            nonrobust                                         \n",
      "==============================================================================\n",
      "                 coef    std err          t      P>|t|      [0.025      0.975]\n",
      "------------------------------------------------------------------------------\n",
      "const         -1.0279      0.027    -37.704      0.000      -1.082      -0.974\n",
      "x1             0.5148      0.025     20.941      0.000       0.466       0.564\n",
      "==============================================================================\n",
      "Omnibus:                        0.735   Durbin-Watson:                   1.873\n",
      "Prob(Omnibus):                  0.693   Jarque-Bera (JB):                0.853\n",
      "Skew:                           0.133   Prob(JB):                        0.653\n",
      "Kurtosis:                       2.634   Cond. No.                         1.11\n",
      "==============================================================================\n",
      "\n",
      "Warnings:\n",
      "[1] Standard Errors assume that the covariance matrix of the errors is correctly specified.\n"
     ]
    }
   ],
   "source": [
    "print(model1.summary()) # printing the summary statistics of fitted model"
   ]
  },
  {
   "cell_type": "markdown",
   "metadata": {},
   "source": [
    "R-squared (R2) is a statistical measure that represents the proportion of the variance for a dependent variable that's explained by an independent variable or variables in a regression model."
   ]
  },
  {
   "cell_type": "code",
   "execution_count": 271,
   "metadata": {},
   "outputs": [],
   "source": [
    "# model1.fittedvalues # you can access the fitted values using the property `.fittedvalues`"
   ]
  },
  {
   "cell_type": "markdown",
   "metadata": {},
   "source": [
    "β^o and β^1 are practically equal to βo and β1. As expected, β^o and β^1 are statistically signficant and Adj. R-square = 0.824 shows that the model fits the data quite well."
   ]
  },
  {
   "cell_type": "markdown",
   "metadata": {},
   "source": [
    "We obtain the same result by using sklearn LinearRegression"
   ]
  },
  {
   "cell_type": "code",
   "execution_count": 247,
   "metadata": {},
   "outputs": [
    {
     "name": "stdout",
     "output_type": "stream",
     "text": [
      "Coefficient 0.5148017802843886:\n",
      "Intercept: -1.027948505546304\n"
     ]
    }
   ],
   "source": [
    "model2 = LinearRegression()\n",
    "model2.fit(X=X_with_const, y=Y)\n",
    "print(\"Coefficient %s:\" % model2.coef_[1])\n",
    "print(\"Intercept: %s\" % model2.intercept_)\n"
   ]
  },
  {
   "cell_type": "markdown",
   "metadata": {},
   "source": [
    "### f) Display the least squares line on the scatterplot obtained in d). Draw the population regression line on the plot, in a different color. Create appropriate legends"
   ]
  },
  {
   "cell_type": "code",
   "execution_count": 248,
   "metadata": {},
   "outputs": [
    {
     "data": {
      "image/png": "[encoded data removed]",
      "text/plain": [
       "<Figure size 576x396 with 1 Axes>"
      ]
     },
     "metadata": {},
     "output_type": "display_data"
    }
   ],
   "source": [
    "plt.scatter(x=X, y=Y, label=\"data points\")\n",
    "plt.plot(X, model1.fittedvalues, color='red', label=\"Regression Line\")\n",
    "plt.legend()\n",
    "plt.show()"
   ]
  },
  {
   "cell_type": "markdown",
   "metadata": {},
   "source": [
    "### g) Fit a polynomial regression model that predicts Y using X and X^2. Is there evidence that the quadratic term improves the model fit? Explain your answer"
   ]
  },
  {
   "cell_type": "code",
   "execution_count": 249,
   "metadata": {
    "scrolled": true
   },
   "outputs": [],
   "source": [
    "X2 = (X_with_const[:, 1] ** 2).reshape(100, 1) # calculating the X^2 values for X and bringing it (100,1) shape using np.reshape\n",
    "X_poly = np.append(X_with_const, X2, axis=1)"
   ]
  },
  {
   "cell_type": "code",
   "execution_count": 250,
   "metadata": {
    "scrolled": true
   },
   "outputs": [
    {
     "name": "stdout",
     "output_type": "stream",
     "text": [
      "[[ 1.         -1.2540471   1.57263412]\n",
      " [ 1.          0.40012534  0.16010029]\n",
      " [ 1.          0.66478769  0.44194267]\n",
      " [ 1.          0.59232061  0.3508437 ]\n",
      " [ 1.          2.29394881  5.26220113]]\n"
     ]
    }
   ],
   "source": [
    "print(X_poly[:5,:])"
   ]
  },
  {
   "cell_type": "code",
   "execution_count": 251,
   "metadata": {},
   "outputs": [
    {
     "data": {
      "text/plain": [
       "array([[ 1.        , -1.2540471 ,  1.57263412],\n",
       "       [ 1.        ,  0.40012534,  0.16010029],\n",
       "       [ 1.        ,  0.66478769,  0.44194267],\n",
       "       [ 1.        ,  0.59232061,  0.3508437 ],\n",
       "       [ 1.        ,  2.29394881,  5.26220113]])"
      ]
     },
     "execution_count": 251,
     "metadata": {},
     "output_type": "execute_result"
    }
   ],
   "source": [
    "X_poly[:5,:]"
   ]
  },
  {
   "cell_type": "code",
   "execution_count": 270,
   "metadata": {},
   "outputs": [
    {
     "name": "stdout",
     "output_type": "stream",
     "text": [
      "                            OLS Regression Results                            \n",
      "==============================================================================\n",
      "Dep. Variable:                      y   R-squared:                       0.566\n",
      "Model:                            OLS   Adj. R-squared:                  0.557\n",
      "Method:                 Least Squares   F-statistic:                     63.12\n",
      "Date:                Tue, 11 Feb 2020   Prob (F-statistic):           2.77e-18\n",
      "Time:                        23:51:07   Log-Likelihood:                -75.580\n",
      "No. Observations:                 100   AIC:                             157.2\n",
      "Df Residuals:                      97   BIC:                             165.0\n",
      "Df Model:                           2                                         \n",
      "Covariance Type:            nonrobust                                         \n",
      "==============================================================================\n",
      "                 coef    std err          t      P>|t|      [0.025      0.975]\n",
      "------------------------------------------------------------------------------\n",
      "const         -0.9430      0.063    -14.879      0.000      -1.069      -0.817\n",
      "x1             0.5256      0.047     11.124      0.000       0.432       0.619\n",
      "x2            -0.0273      0.029     -0.940      0.350      -0.085       0.030\n",
      "==============================================================================\n",
      "Omnibus:                        0.757   Durbin-Watson:                   2.041\n",
      "Prob(Omnibus):                  0.685   Jarque-Bera (JB):                0.355\n",
      "Skew:                           0.098   Prob(JB):                        0.837\n",
      "Kurtosis:                       3.216   Cond. No.                         2.85\n",
      "==============================================================================\n",
      "\n",
      "Warnings:\n",
      "[1] Standard Errors assume that the covariance matrix of the errors is correctly specified.\n"
     ]
    }
   ],
   "source": [
    "model3 = sm.OLS(Y, X_poly).fit() # fitting the OLS using X and X^2 as features\n",
    "print(model3.summary())"
   ]
  },
  {
   "cell_type": "markdown",
   "metadata": {},
   "source": [
    "As we can see from above summary, p-value for second feature is equal to 0.284 which means that X^2 feature is not important."
   ]
  },
  {
   "cell_type": "markdown",
   "metadata": {},
   "source": [
    "### h) What are the confidence intervals for β0 and β1 based on the original data set, the noisier data set, and the less noisy data set? Comment on your results"
   ]
  },
  {
   "cell_type": "markdown",
   "metadata": {},
   "source": [
    "At first let's modify the data generation process in such a way that there is less noise in the data."
   ]
  },
  {
   "cell_type": "code",
   "execution_count": 253,
   "metadata": {},
   "outputs": [],
   "source": [
    "e = np.random.normal(0, 0.1, 100) # generate less noisy data by sampling data from normal distribution of which the standart deviation of equal to 0.1\n",
    "Y = -1 + 0.5*X + e\n",
    "model_less_noise = sm.OLS(Y, X_with_const).fit()"
   ]
  },
  {
   "cell_type": "code",
   "execution_count": 254,
   "metadata": {},
   "outputs": [
    {
     "data": {
      "image/png": "[encoded data removed]",
      "text/plain": [
       "<Figure size 576x396 with 1 Axes>"
      ]
     },
     "metadata": {},
     "output_type": "display_data"
    }
   ],
   "source": [
    "plt.scatter(x=X, y=Y, label=\"data points\")\n",
    "plt.plot(X, model_less_noise.fittedvalues, color='red', label=\"Regression Line\")\n",
    "plt.legend()\n",
    "plt.show()"
   ]
  },
  {
   "cell_type": "code",
   "execution_count": 255,
   "metadata": {},
   "outputs": [
    {
     "name": "stdout",
     "output_type": "stream",
     "text": [
      "                            OLS Regression Results                            \n",
      "==============================================================================\n",
      "Dep. Variable:                      y   R-squared:                       0.973\n",
      "Model:                            OLS   Adj. R-squared:                  0.973\n",
      "Method:                 Least Squares   F-statistic:                     3520.\n",
      "Date:                Tue, 11 Feb 2020   Prob (F-statistic):           1.31e-78\n",
      "Time:                        23:30:14   Log-Likelihood:                 92.795\n",
      "No. Observations:                 100   AIC:                            -181.6\n",
      "Df Residuals:                      98   BIC:                            -176.4\n",
      "Df Model:                           1                                         \n",
      "Covariance Type:            nonrobust                                         \n",
      "==============================================================================\n",
      "                 coef    std err          t      P>|t|      [0.025      0.975]\n",
      "------------------------------------------------------------------------------\n",
      "const         -1.0086      0.010   -104.364      0.000      -1.028      -0.989\n",
      "x1             0.5169      0.009     59.326      0.000       0.500       0.534\n",
      "==============================================================================\n",
      "Omnibus:                        1.898   Durbin-Watson:                   2.246\n",
      "Prob(Omnibus):                  0.387   Jarque-Bera (JB):                1.747\n",
      "Skew:                           0.322   Prob(JB):                        0.418\n",
      "Kurtosis:                       2.925   Cond. No.                         1.11\n",
      "==============================================================================\n",
      "\n",
      "Warnings:\n",
      "[1] Standard Errors assume that the covariance matrix of the errors is correctly specified.\n"
     ]
    }
   ],
   "source": [
    "print(model_less_noise.summary())#.tables[0]"
   ]
  },
  {
   "cell_type": "markdown",
   "metadata": {},
   "source": [
    "In case of less noise data, we obtain more accurate predicted coefficients for β0 and β1, and Adj. R.squared = 0.965"
   ]
  },
  {
   "cell_type": "markdown",
   "metadata": {},
   "source": [
    "### Now the case of noisier data set."
   ]
  },
  {
   "cell_type": "code",
   "execution_count": 256,
   "metadata": {},
   "outputs": [],
   "source": [
    "e = np.random.normal(0, 0.5, 100)\n",
    "Y = -1 + 0.5*X + e"
   ]
  },
  {
   "cell_type": "code",
   "execution_count": 257,
   "metadata": {},
   "outputs": [
    {
     "name": "stdout",
     "output_type": "stream",
     "text": [
      "                            OLS Regression Results                            \n",
      "==============================================================================\n",
      "Dep. Variable:                      y   R-squared:                       0.562\n",
      "Model:                            OLS   Adj. R-squared:                  0.557\n",
      "Method:                 Least Squares   F-statistic:                     125.5\n",
      "Date:                Tue, 11 Feb 2020   Prob (F-statistic):           3.03e-19\n",
      "Time:                        23:30:16   Log-Likelihood:                -76.033\n",
      "No. Observations:                 100   AIC:                             156.1\n",
      "Df Residuals:                      98   BIC:                             161.3\n",
      "Df Model:                           1                                         \n",
      "Covariance Type:            nonrobust                                         \n",
      "==============================================================================\n",
      "                 coef    std err          t      P>|t|      [0.025      0.975]\n",
      "------------------------------------------------------------------------------\n",
      "const         -0.9766      0.052    -18.680      0.000      -1.080      -0.873\n",
      "x1             0.5281      0.047     11.203      0.000       0.435       0.622\n",
      "==============================================================================\n",
      "Omnibus:                        1.066   Durbin-Watson:                   2.046\n",
      "Prob(Omnibus):                  0.587   Jarque-Bera (JB):                0.574\n",
      "Skew:                           0.076   Prob(JB):                        0.751\n",
      "Kurtosis:                       3.339   Cond. No.                         1.11\n",
      "==============================================================================\n",
      "\n",
      "Warnings:\n",
      "[1] Standard Errors assume that the covariance matrix of the errors is correctly specified.\n"
     ]
    }
   ],
   "source": [
    "model_noisier = sm.OLS(Y, X_with_const).fit()\n",
    "print(model_noisier.summary())"
   ]
  },
  {
   "cell_type": "code",
   "execution_count": 258,
   "metadata": {},
   "outputs": [
    {
     "data": {
      "image/png": "[encoded data removed]",
      "text/plain": [
       "<Figure size 576x396 with 1 Axes>"
      ]
     },
     "metadata": {},
     "output_type": "display_data"
    }
   ],
   "source": [
    "plt.scatter(x=X, y=Y, label=\"data points\")\n",
    "plt.plot(X, model_noisier.fittedvalues, color='red', label=\"Regression Line\")\n",
    "plt.legend()\n",
    "plt.show();"
   ]
  },
  {
   "cell_type": "markdown",
   "metadata": {},
   "source": [
    "In noisier data set, Adj. R-squared = 0.674, nevertheless predicted coefficients are close to actual coefficients"
   ]
  },
  {
   "cell_type": "markdown",
   "metadata": {},
   "source": [
    "Now let's see what are the confidence intervals for βo and β1 based on the original data set, the noisier data set, and the less noisy data set?"
   ]
  },
  {
   "cell_type": "code",
   "execution_count": 259,
   "metadata": {},
   "outputs": [
    {
     "name": "stdout",
     "output_type": "stream",
     "text": [
      "Confidence Intervals for original data set\n",
      "[[-1.08205226 -0.97384475]\n",
      " [ 0.46601748  0.56358608]]\n",
      "\n",
      "\n",
      "Confidence Intervals for less noise data set\n",
      "[[-1.02773114 -0.98937612]\n",
      " [ 0.49965727  0.53424124]]\n",
      "\n",
      "\n",
      "Confidence Intervals for noisier data set\n",
      "[[-1.08038958 -0.87288266]\n",
      " [ 0.43459544  0.62170038]]\n"
     ]
    }
   ],
   "source": [
    "print('Confidence Intervals for original data set')\n",
    "print(model1.conf_int())\n",
    "print('\\n')\n",
    "print('Confidence Intervals for less noise data set')\n",
    "print(model_less_noise.conf_int())\n",
    "print('\\n')\n",
    "print('Confidence Intervals for noisier data set')\n",
    "print(model_noisier.conf_int())"
   ]
  },
  {
   "cell_type": "markdown",
   "metadata": {},
   "source": [
    "From the above results we can say that the lenght of the confidence intervals is small for less noise data set and big for noisier data set"
   ]
  }
 ],
 "metadata": {
  "kernelspec": {
   "display_name": "Python 3",
   "language": "python",
   "name": "python3"
  },
  "language_info": {
   "codemirror_mode": {
    "name": "ipython",
    "version": 3
   },
   "file_extension": ".py",
   "mimetype": "text/x-python",
   "name": "python",
   "nbconvert_exporter": "python",
   "pygments_lexer": "ipython3",
   "version": "3.7.6"
  }
 },
 "nbformat": 4,
 "nbformat_minor": 2
}
