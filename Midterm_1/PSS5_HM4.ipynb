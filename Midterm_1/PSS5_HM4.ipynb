{
 "cells": [
  {
   "cell_type": "code",
   "execution_count": 1,
   "metadata": {},
   "outputs": [],
   "source": [
    "import pandas as pd\n",
    "import numpy as np\n",
    "\n",
    "import matplotlib.pyplot as plt\n",
    "import seaborn as sns\n",
    "\n",
    "from sklearn.preprocessing import PolynomialFeatures\n",
    "\n",
    "from sklearn.linear_model import Ridge, Lasso\n",
    "from sklearn.model_selection import KFold, cross_val_score\n",
    "\n",
    "from sklearn.preprocessing import scale \n",
    "from sklearn import model_selection\n",
    "from sklearn.linear_model import LinearRegression, Ridge, RidgeCV\n",
    "from sklearn.decomposition import PCA\n",
    "from sklearn.cross_decomposition import PLSRegression\n",
    "from sklearn.model_selection import KFold, cross_val_score\n",
    "from sklearn.metrics import mean_squared_error\n",
    "from sklearn.preprocessing import StandardScaler\n",
    "\n",
    "%matplotlib inline\n",
    "plt.style.use('seaborn-white')\n",
    "\n",
    "# Suppress warnings \n",
    "import warnings\n",
    "warnings.filterwarnings('ignore')"
   ]
  },
  {
   "cell_type": "markdown",
   "metadata": {},
   "source": [
    "### 1. Generate a random predictor X from a normal distribution of length n = 100, as well as a noise vector e of length n = 100. Generate a response vector Y of length n = 100 according to the model Y = β0 + β1X + β2X^2 + β3X^3 + e, where β0, β1, β2, β3 are constants of your choice."
   ]
  },
  {
   "cell_type": "code",
   "execution_count": 2,
   "metadata": {},
   "outputs": [],
   "source": [
    "np.random.seed(222)\n",
    "X = np.random.normal(0, 1, 100)\n",
    "e = np.random.normal(0, 0.3, 100)\n",
    "Y = 1 + 0.5*X + 0.4*X**2 + 0.6*X**3 + e"
   ]
  },
  {
   "cell_type": "code",
   "execution_count": 3,
   "metadata": {},
   "outputs": [
    {
     "name": "stdout",
     "output_type": "stream",
     "text": [
      "The shapes of X: 100 \n",
      "The shapes of Y: 100\n"
     ]
    }
   ],
   "source": [
    "print(\"The shapes of X: %s\" % X.shape, \"\\nThe shapes of Y: %s\" % Y.shape)"
   ]
  },
  {
   "cell_type": "code",
   "execution_count": 4,
   "metadata": {},
   "outputs": [
    {
     "data": {
      "text/plain": [
       "array([ 1.96342502,  0.27576969,  0.4586582 ,  1.00126466, -0.76383531,\n",
       "        0.72192766, -0.90546956,  1.00187339, -0.52074247,  0.30895287,\n",
       "        0.1131885 , -0.16233418,  0.91394627,  0.04421404, -1.45779793,\n",
       "       -0.6001931 ,  1.55093923, -0.46453073, -0.22405652, -1.64075145,\n",
       "       -0.62625805, -0.74761329,  1.10934361, -0.52384044,  0.43307391,\n",
       "        0.39708062,  0.04430649,  0.82473962, -0.89872147,  0.47398593,\n",
       "        1.30196696, -0.55253401,  0.24311182,  0.12508241, -0.99303729,\n",
       "       -0.87371004, -0.9639354 , -0.62864526,  0.60152994, -1.72016881,\n",
       "        1.92264533,  1.99257131,  0.03603926,  0.72126269, -0.85572083,\n",
       "       -0.8831408 ,  1.01304647, -0.31601447, -0.08474375, -0.74927678,\n",
       "        0.38394798, -0.08137207, -0.84189872, -0.48253238, -0.42680382,\n",
       "        0.13294238, -0.91291306,  0.94874833, -0.55284127,  0.83002567,\n",
       "        0.60594797,  0.13904955, -0.68651382, -0.62930065, -1.77727573,\n",
       "       -2.03994018, -0.09286767,  0.72720045,  0.43635813, -0.32711274,\n",
       "        0.48995138, -0.91842066, -0.30823304, -0.90336928,  1.68943212,\n",
       "        0.69770992,  2.44171981,  0.66048036,  0.31663838,  0.18516994,\n",
       "       -0.94408729, -1.04701803, -0.39138884, -0.56288306,  0.29939138,\n",
       "        0.00719566,  1.33017522,  0.23682412, -0.20455693,  1.30542494,\n",
       "        0.12108089,  1.99947498,  1.46303619, -1.28854054,  0.38552496,\n",
       "       -0.63244639,  0.17452359, -0.23734123,  0.53077246, -1.12673891])"
      ]
     },
     "execution_count": 4,
     "metadata": {},
     "output_type": "execute_result"
    }
   ],
   "source": [
    "X"
   ]
  },
  {
   "cell_type": "markdown",
   "metadata": {},
   "source": [
    "### 2. Fit the Ridge model to the simulated data, using X, X^2, . . . , X^10 as predictors. Use cross-validation (10-fold) to select the optimal value of λ. Create plots of the cross-validation error as a function of λ. Report the resulting coefficient estimates and discuss the results."
   ]
  },
  {
   "cell_type": "code",
   "execution_count": 5,
   "metadata": {},
   "outputs": [
    {
     "data": {
      "text/html": [
       "<div>\n",
       "<style scoped>\n",
       "    .dataframe tbody tr th:only-of-type {\n",
       "        vertical-align: middle;\n",
       "    }\n",
       "\n",
       "    .dataframe tbody tr th {\n",
       "        vertical-align: top;\n",
       "    }\n",
       "\n",
       "    .dataframe thead th {\n",
       "        text-align: right;\n",
       "    }\n",
       "</style>\n",
       "<table border=\"1\" class=\"dataframe\">\n",
       "  <thead>\n",
       "    <tr style=\"text-align: right;\">\n",
       "      <th></th>\n",
       "      <th>0</th>\n",
       "      <th>1</th>\n",
       "      <th>2</th>\n",
       "      <th>3</th>\n",
       "      <th>4</th>\n",
       "      <th>5</th>\n",
       "      <th>6</th>\n",
       "      <th>7</th>\n",
       "      <th>8</th>\n",
       "      <th>9</th>\n",
       "      <th>10</th>\n",
       "    </tr>\n",
       "  </thead>\n",
       "  <tbody>\n",
       "    <tr>\n",
       "      <th>0</th>\n",
       "      <td>1.0</td>\n",
       "      <td>1.963425</td>\n",
       "      <td>3.855038</td>\n",
       "      <td>7.569078</td>\n",
       "      <td>14.861316</td>\n",
       "      <td>29.179080</td>\n",
       "      <td>57.290937</td>\n",
       "      <td>112.486458</td>\n",
       "      <td>220.858726</td>\n",
       "      <td>433.639547</td>\n",
       "      <td>851.418735</td>\n",
       "    </tr>\n",
       "    <tr>\n",
       "      <th>1</th>\n",
       "      <td>1.0</td>\n",
       "      <td>0.275770</td>\n",
       "      <td>0.076049</td>\n",
       "      <td>0.020972</td>\n",
       "      <td>0.005783</td>\n",
       "      <td>0.001595</td>\n",
       "      <td>0.000440</td>\n",
       "      <td>0.000121</td>\n",
       "      <td>0.000033</td>\n",
       "      <td>0.000009</td>\n",
       "      <td>0.000003</td>\n",
       "    </tr>\n",
       "    <tr>\n",
       "      <th>2</th>\n",
       "      <td>1.0</td>\n",
       "      <td>0.458658</td>\n",
       "      <td>0.210367</td>\n",
       "      <td>0.096487</td>\n",
       "      <td>0.044254</td>\n",
       "      <td>0.020298</td>\n",
       "      <td>0.009310</td>\n",
       "      <td>0.004270</td>\n",
       "      <td>0.001958</td>\n",
       "      <td>0.000898</td>\n",
       "      <td>0.000412</td>\n",
       "    </tr>\n",
       "    <tr>\n",
       "      <th>3</th>\n",
       "      <td>1.0</td>\n",
       "      <td>1.001265</td>\n",
       "      <td>1.002531</td>\n",
       "      <td>1.003799</td>\n",
       "      <td>1.005068</td>\n",
       "      <td>1.006339</td>\n",
       "      <td>1.007612</td>\n",
       "      <td>1.008886</td>\n",
       "      <td>1.010162</td>\n",
       "      <td>1.011440</td>\n",
       "      <td>1.012719</td>\n",
       "    </tr>\n",
       "    <tr>\n",
       "      <th>4</th>\n",
       "      <td>1.0</td>\n",
       "      <td>-0.763835</td>\n",
       "      <td>0.583444</td>\n",
       "      <td>-0.445655</td>\n",
       "      <td>0.340407</td>\n",
       "      <td>-0.260015</td>\n",
       "      <td>0.198609</td>\n",
       "      <td>-0.151704</td>\n",
       "      <td>0.115877</td>\n",
       "      <td>-0.088511</td>\n",
       "      <td>0.067608</td>\n",
       "    </tr>\n",
       "  </tbody>\n",
       "</table>\n",
       "</div>"
      ],
      "text/plain": [
       "     0         1         2         3          4          5          6  \\\n",
       "0  1.0  1.963425  3.855038  7.569078  14.861316  29.179080  57.290937   \n",
       "1  1.0  0.275770  0.076049  0.020972   0.005783   0.001595   0.000440   \n",
       "2  1.0  0.458658  0.210367  0.096487   0.044254   0.020298   0.009310   \n",
       "3  1.0  1.001265  1.002531  1.003799   1.005068   1.006339   1.007612   \n",
       "4  1.0 -0.763835  0.583444 -0.445655   0.340407  -0.260015   0.198609   \n",
       "\n",
       "            7           8           9          10  \n",
       "0  112.486458  220.858726  433.639547  851.418735  \n",
       "1    0.000121    0.000033    0.000009    0.000003  \n",
       "2    0.004270    0.001958    0.000898    0.000412  \n",
       "3    1.008886    1.010162    1.011440    1.012719  \n",
       "4   -0.151704    0.115877   -0.088511    0.067608  "
      ]
     },
     "execution_count": 5,
     "metadata": {},
     "output_type": "execute_result"
    }
   ],
   "source": [
    "X = pd.DataFrame(X)\n",
    "# poly = PolynomialFeatures(degree = 10)\n",
    "X_poly = PolynomialFeatures(degree = 10).fit_transform(X)\n",
    "X_poly = pd.DataFrame(X_poly)\n",
    "X_poly.head()"
   ]
  },
  {
   "cell_type": "code",
   "execution_count": 6,
   "metadata": {},
   "outputs": [],
   "source": [
    "X_poly = StandardScaler().fit_transform(X_poly)"
   ]
  },
  {
   "cell_type": "code",
   "execution_count": 7,
   "metadata": {},
   "outputs": [
    {
     "data": {
      "text/plain": [
       "array([[ 0.        ,  2.12834006,  2.67845932, ...,  1.4153034 ,\n",
       "         1.2057606 ,  0.92613273],\n",
       "       [ 0.        ,  0.27477226, -0.66718093, ..., -0.21365216,\n",
       "        -0.1246903 , -0.17370634],\n",
       "       [ 0.        ,  0.47564044, -0.54826522, ..., -0.21363796,\n",
       "        -0.12468757, -0.17370581],\n",
       "       ...,\n",
       "       [ 0.        , -0.28878232, -0.68463786, ..., -0.21365233,\n",
       "        -0.12469034, -0.17370634],\n",
       "       [ 0.        ,  0.55484421, -0.48509533, ..., -0.21360595,\n",
       "        -0.12468007, -0.17370405],\n",
       "       [ 0.        , -1.26561621,  0.38944926, ..., -0.19449304,\n",
       "        -0.1336704 , -0.16944625]])"
      ]
     },
     "execution_count": 7,
     "metadata": {},
     "output_type": "execute_result"
    }
   ],
   "source": [
    "X_poly"
   ]
  },
  {
   "cell_type": "code",
   "execution_count": 8,
   "metadata": {
    "scrolled": false
   },
   "outputs": [
    {
     "data": {
      "image/png": "[encoded data removed]",
      "text/plain": [
       "<Figure size 432x288 with 1 Axes>"
      ]
     },
     "metadata": {},
     "output_type": "display_data"
    }
   ],
   "source": [
    "alphas = 10**np.linspace(10,-2,100)*0.5\n",
    "# print(alphas)\n",
    "# alphas = [0, 0.001, 0.01, 0.1, 1, 10]\n",
    "ridge = Ridge()\n",
    "cv_val = []\n",
    "\n",
    "for a in alphas:\n",
    "    ridge.set_params(alpha=a, random_state=42)\n",
    "    errors = np.sum(-cross_val_score(ridge, \n",
    "                                 X_poly, \n",
    "                                 y=Y, \n",
    "                                 scoring='neg_mean_squared_error', \n",
    "                                 cv=10, \n",
    "                                 n_jobs=-1))\n",
    "    cv_val.append(np.sqrt(errors))\n",
    "# print(cv_val)\n",
    "\n",
    "ax = plt.gca()\n",
    "ax.plot(alphas, cv_val)\n",
    "ax.set_xscale('log')\n",
    "ax.set_xlim(ax.get_xlim()[::-1])  # reverse axis\n",
    "plt.axis('tight')\n",
    "plt.xlabel('λ')\n",
    "plt.ylabel('cv error')\n",
    "plt.title('cross-validation error as a function of λ');"
   ]
  },
  {
   "cell_type": "code",
   "execution_count": 9,
   "metadata": {},
   "outputs": [
    {
     "data": {
      "image/png": "[encoded data removed]",
      "text/plain": [
       "<Figure size 432x288 with 1 Axes>"
      ]
     },
     "metadata": {},
     "output_type": "display_data"
    }
   ],
   "source": [
    "alphas = [0, 0.001, 0.01, 0.1, 1, 10, 100, 1000, 10000]\n",
    "ridge = Ridge()\n",
    "cv_val = []\n",
    "\n",
    "for a in alphas:\n",
    "    ridge.set_params(alpha=a, random_state=42)\n",
    "    errors = np.sum(-cross_val_score(ridge, \n",
    "                                 X_poly, \n",
    "                                 y=Y, \n",
    "                                 scoring='neg_mean_squared_error', \n",
    "                                 cv=10, \n",
    "                                 n_jobs=-1))\n",
    "    cv_val.append(np.sqrt(errors))\n",
    "\n",
    "ax = plt.gca()\n",
    "ax.plot(alphas, cv_val)\n",
    "ax.set_xscale('log')\n",
    "ax.set_xlim(ax.get_xlim()[::-1])  # reverse axis\n",
    "plt.axis('tight')\n",
    "plt.xlabel('λ')\n",
    "plt.ylabel('cv error')\n",
    "plt.title('cross-validation error as a function of λ');"
   ]
  },
  {
   "cell_type": "code",
   "execution_count": 10,
   "metadata": {},
   "outputs": [
    {
     "data": {
      "image/png": "[encoded data removed]",
      "text/plain": [
       "<Figure size 432x288 with 1 Axes>"
      ]
     },
     "metadata": {},
     "output_type": "display_data"
    }
   ],
   "source": [
    "# alphas = 10**np.linspace(10,-2,100)*0.5\n",
    "# alphas = [0, 0.001, 0.01, 0.1, 1, 10, 100, 1000, 10000]\n",
    "ridge = Ridge()\n",
    "cv_val = []\n",
    "\n",
    "for a in alphas:\n",
    "    ridge.set_params(alpha=a)\n",
    "    cv_val.append(cross_val_score(ridge, X_poly, Y, cv=10).mean())\n",
    "\n",
    "ax = plt.gca()\n",
    "ax.plot(alphas, cv_val)\n",
    "ax.set_xscale('log')\n",
    "ax.set_xlim(ax.get_xlim()[::-1])  # reverse axis\n",
    "plt.axis('tight')\n",
    "plt.xlabel('λ')\n",
    "plt.ylabel('cv score')\n",
    "plt.title('cross-validation score as a function of λ');"
   ]
  },
  {
   "cell_type": "code",
   "execution_count": 11,
   "metadata": {
    "scrolled": false
   },
   "outputs": [
    {
     "name": "stdout",
     "output_type": "stream",
     "text": [
      "[ 0.          0.24916501  0.15227795  3.3386599   0.42107491 -6.18388874\n",
      "  2.58980143  8.17607806 -5.90600575 -3.50164211  3.11953174]\n",
      "[ 0.          0.31830854  0.11319682  2.57988833  0.98716875 -2.80270166\n",
      " -0.25665293  2.02007923 -0.32057493  0.39369893 -0.56881579]\n",
      "[ 0.          0.3775817   0.13188852  2.11998453  0.89425113 -1.3914657\n",
      " -0.06042689  0.20219762 -0.49361796  1.21964763 -0.52460703]\n",
      "[ 0.          0.49765278  0.22920881  1.46296568  0.70660521 -0.28684701\n",
      " -0.16132705  0.01563686 -0.42206665  0.64815633 -0.20987903]\n",
      "[ 0.          0.60964804  0.36519294  0.94055503  0.3053849   0.38424245\n",
      " -0.01331997  0.1712608  -0.17698485  0.10163577 -0.21259248]\n",
      "[ 0.          0.65842743  0.35011726  0.72318134  0.2006234   0.45326272\n",
      "  0.02909795  0.2224555  -0.09263499  0.05680888 -0.16679153]\n",
      "[0.         0.4738793  0.18605632 0.44691771 0.14142625 0.32337179\n",
      " 0.08831441 0.21458433 0.04638478 0.13294022 0.01756619]\n",
      "[0.         0.13100116 0.07225754 0.14003957 0.07763381 0.12362364\n",
      " 0.07531562 0.10579663 0.07071701 0.09055852 0.06616356]\n",
      "[0.         0.01764686 0.01187803 0.02011878 0.01339704 0.01888189\n",
      " 0.01354621 0.01709591 0.01313501 0.01538703 0.01258641]\n"
     ]
    },
    {
     "data": {
      "image/png": "[encoded data removed]",
      "text/plain": [
       "<Figure size 432x288 with 1 Axes>"
      ]
     },
     "metadata": {},
     "output_type": "display_data"
    }
   ],
   "source": [
    "# alphas = 10**np.linspace(10,-2,100)*0.5\n",
    "\n",
    "ridge = Ridge()\n",
    "coefs = []\n",
    "\n",
    "for a in alphas:\n",
    "    ridge.set_params(alpha=a)\n",
    "    ridge.fit(X_poly, Y)\n",
    "    coefs.append(ridge.coef_)\n",
    "    print(ridge.coef_)\n",
    "\n",
    "ax = plt.gca()\n",
    "ax.plot(alphas, coefs)\n",
    "ax.set_xscale('log')\n",
    "ax.set_xlim(ax.get_xlim()[::-1])  # reverse axis\n",
    "plt.axis('tight')\n",
    "plt.xlabel('alpha')\n",
    "plt.ylabel('weights')\n",
    "plt.title('Ridge coefficients as a function of the regularization');"
   ]
  },
  {
   "cell_type": "code",
   "execution_count": 12,
   "metadata": {
    "scrolled": true
   },
   "outputs": [
    {
     "name": "stdout",
     "output_type": "stream",
     "text": [
      "alpha:      0 | mean(train_error):  0.0991 | mean(val_error): 23.3971\n",
      "alpha:  0.001 | mean(train_error):  0.0996 | mean(val_error): 1.1737\n",
      "alpha:   0.01 | mean(train_error):  0.1001 | mean(val_error): 0.3893\n",
      "alpha:    0.1 | mean(train_error):  0.1024 | mean(val_error): 0.3391\n",
      "alpha:      1 | mean(train_error):  0.1073 | mean(val_error): 0.1354\n",
      "alpha:     10 | mean(train_error):  0.1247 | mean(val_error): 0.2993\n",
      "alpha:    100 | mean(train_error):  0.4754 | mean(val_error): 0.5822\n",
      "alpha:   1000 | mean(train_error):  2.3461 | mean(val_error): 2.7995\n",
      "alpha:  10000 | mean(train_error):  4.3785 | mean(val_error): 4.6153\n"
     ]
    }
   ],
   "source": [
    "def calc_train_error(X_train, y_train, model):\n",
    "    '''returns in-sample error for already fit model.'''\n",
    "    predictions = model.predict(X_train)\n",
    "    mse = mean_squared_error(y_train, predictions)\n",
    "    rmse = np.sqrt(mse)\n",
    "    return mse\n",
    "    \n",
    "def calc_validation_error(X_test, y_test, model):\n",
    "    '''returns out-of-sample error for already fit model.'''\n",
    "    predictions = model.predict(X_test)\n",
    "    mse = mean_squared_error(y_test, predictions)\n",
    "    rmse = np.sqrt(mse)\n",
    "    return mse\n",
    "    \n",
    "def calc_metrics(X_train, y_train, X_test, y_test, model):\n",
    "    '''fits model and returns the RMSE for in-sample error and out-of-sample error'''\n",
    "    model.fit(X_train, y_train)\n",
    "    train_error = calc_train_error(X_train, y_train, model)\n",
    "    validation_error = calc_validation_error(X_test, y_test, model)\n",
    "    return train_error, validation_error\n",
    "\n",
    "X_poly = np.array(X_poly)\n",
    "Y = np.array(Y)\n",
    "\n",
    "K = 10\n",
    "kf = KFold(n_splits=K, shuffle=True, random_state=42)\n",
    "# alphas = [0, 0.001, 0.01, 0.1, 1, 10, 100, 1000, 10000]\n",
    "\n",
    "for alpha in alphas:\n",
    "    train_errors = []\n",
    "    validation_errors = []\n",
    "    for train_index, val_index in kf.split(X_poly, Y):\n",
    "        \n",
    "        # split data\n",
    "        X_train, X_val = X_poly[train_index], X_poly[val_index]\n",
    "        y_train, y_val = Y[train_index], Y[val_index]\n",
    "\n",
    "        # instantiate model\n",
    "        ridge = Ridge(alpha=alpha, fit_intercept=True, random_state=77)\n",
    "        \n",
    "        #calculate errors\n",
    "        train_error, val_error = calc_metrics(X_train, y_train, X_val, y_val, ridge)\n",
    "        \n",
    "        # append to appropriate list\n",
    "        train_errors.append(train_error)\n",
    "        validation_errors.append(val_error)\n",
    "    \n",
    "    # generate report\n",
    "    print('alpha: {:6} | mean(train_error): {:7} | mean(val_error): {}'.\n",
    "          format(alpha,\n",
    "                 round(np.mean(train_errors),4),\n",
    "                 round(np.mean(validation_errors),4)))"
   ]
  },
  {
   "cell_type": "markdown",
   "metadata": {},
   "source": [
    "Taking into account the above obtained graphs, we can say that the optimal value for λ (ridge regularization) is 1"
   ]
  },
  {
   "cell_type": "code",
   "execution_count": 13,
   "metadata": {},
   "outputs": [
    {
     "data": {
      "text/plain": [
       "Ridge(alpha=1, copy_X=True, fit_intercept=True, max_iter=None, normalize=False,\n",
       "      random_state=None, solver='auto', tol=0.001)"
      ]
     },
     "execution_count": 13,
     "metadata": {},
     "output_type": "execute_result"
    }
   ],
   "source": [
    "ridge = Ridge(alpha=1)\n",
    "ridge.fit(X_poly, Y)"
   ]
  },
  {
   "cell_type": "code",
   "execution_count": 14,
   "metadata": {},
   "outputs": [
    {
     "data": {
      "text/plain": [
       "array([ 0.        ,  0.60964804,  0.36519294,  0.94055503,  0.3053849 ,\n",
       "        0.38424245, -0.01331997,  0.1712608 , -0.17698485,  0.10163577,\n",
       "       -0.21259248])"
      ]
     },
     "execution_count": 14,
     "metadata": {},
     "output_type": "execute_result"
    }
   ],
   "source": [
    "ridge.coef_"
   ]
  },
  {
   "cell_type": "markdown",
   "metadata": {},
   "source": [
    "So we must take all features except X^0"
   ]
  },
  {
   "cell_type": "markdown",
   "metadata": {},
   "source": [
    "### Fit the Lasso model to the simulated data, using X, X^2, . . . , X^10 as predictors. Use cross-validation (10-fold) to select the optimal value of λ. Create plots of the cross-validation error as a function of λ. Report the resulting coefficient estimates and discuss the results."
   ]
  },
  {
   "cell_type": "code",
   "execution_count": 15,
   "metadata": {
    "scrolled": true
   },
   "outputs": [
    {
     "data": {
      "image/png": "[encoded data removed]",
      "text/plain": [
       "<Figure size 432x288 with 1 Axes>"
      ]
     },
     "metadata": {},
     "output_type": "display_data"
    }
   ],
   "source": [
    "alphas = 10**np.linspace(10,-2,100)*0.5\n",
    "# alphas = [0, 0.001, 0.01, 0.1, 1, 10]\n",
    "lasso = Lasso()\n",
    "cv_val = []\n",
    "\n",
    "for a in alphas:\n",
    "    lasso.set_params(alpha=a, random_state=42)\n",
    "    errors = np.sum(-cross_val_score(lasso, \n",
    "                                 X_poly, \n",
    "                                 y=Y, \n",
    "                                 scoring='neg_mean_squared_error', \n",
    "                                 cv=10, \n",
    "                                 n_jobs=-1))\n",
    "    cv_val.append(np.sqrt(errors))\n",
    "\n",
    "ax = plt.gca()\n",
    "ax.plot(alphas, cv_val)\n",
    "ax.set_xscale('log')\n",
    "ax.set_xlim(ax.get_xlim()[::-1])  # reverse axis\n",
    "plt.axis('tight')\n",
    "plt.xlabel('λ')\n",
    "plt.ylabel('cv error')\n",
    "plt.title('cross-validation error as a function of λ');"
   ]
  },
  {
   "cell_type": "code",
   "execution_count": 16,
   "metadata": {},
   "outputs": [
    {
     "data": {
      "image/png": "[encoded data removed]",
      "text/plain": [
       "<Figure size 432x288 with 1 Axes>"
      ]
     },
     "metadata": {},
     "output_type": "display_data"
    }
   ],
   "source": [
    "alphas = [0, 0.00001, 0.0001, 0.001, 0.01, 0.1, 1]\n",
    "lasso = Lasso()\n",
    "cv_val = []\n",
    "\n",
    "for a in alphas:\n",
    "    lasso.set_params(alpha=a, random_state=42)\n",
    "    errors = np.sum(-cross_val_score(lasso, \n",
    "                                 X_poly, \n",
    "                                 y=Y, \n",
    "                                 scoring='neg_mean_squared_error', \n",
    "                                 cv=10, \n",
    "                                 n_jobs=-1))\n",
    "    cv_val.append(np.sqrt(errors))\n",
    "\n",
    "ax = plt.gca()\n",
    "ax.plot(alphas, cv_val)\n",
    "ax.set_xscale('log')\n",
    "ax.set_xlim(ax.get_xlim()[::-1])  # reverse axis\n",
    "plt.axis('tight')\n",
    "plt.xlabel('λ')\n",
    "plt.ylabel('cv error')\n",
    "plt.title('cross-validation error as a function of λ');"
   ]
  },
  {
   "cell_type": "code",
   "execution_count": 17,
   "metadata": {},
   "outputs": [
    {
     "data": {
      "image/png": "[encoded data removed]",
      "text/plain": [
       "<Figure size 432x288 with 1 Axes>"
      ]
     },
     "metadata": {},
     "output_type": "display_data"
    }
   ],
   "source": [
    "# alphas = 10**np.linspace(10,-2,100)*0.5\n",
    "# alphas = [0, 0.00001, 0.0001, 0.001, 0.01, 0.1, 1]\n",
    "lasso = Lasso()\n",
    "cv_val = []\n",
    "\n",
    "for a in alphas:\n",
    "    lasso.set_params(alpha=a)\n",
    "    cv_val.append(cross_val_score(lasso, X_poly, Y, cv=10).mean())\n",
    "\n",
    "ax = plt.gca()\n",
    "ax.plot(alphas, cv_val)\n",
    "ax.set_xscale('log')\n",
    "ax.set_xlim(ax.get_xlim()[::-1])  # reverse axis\n",
    "plt.axis('tight')\n",
    "plt.xlabel('λ')\n",
    "plt.ylabel('cv score')\n",
    "plt.title('cross-validation score as a function of λ');"
   ]
  },
  {
   "cell_type": "code",
   "execution_count": 18,
   "metadata": {},
   "outputs": [
    {
     "data": {
      "image/png": "[encoded data removed]",
      "text/plain": [
       "<Figure size 432x288 with 1 Axes>"
      ]
     },
     "metadata": {},
     "output_type": "display_data"
    }
   ],
   "source": [
    "lasso = Lasso(max_iter=10000)\n",
    "coefs = []\n",
    "\n",
    "for a in alphas*2:\n",
    "    lasso.set_params(alpha=a)\n",
    "    lasso.fit(X_poly, Y)\n",
    "    coefs.append(lasso.coef_)\n",
    "\n",
    "ax = plt.gca()\n",
    "ax.plot(alphas*2, coefs)\n",
    "ax.set_xscale('log')\n",
    "ax.set_xlim(ax.get_xlim()[::-1])  # reverse axis\n",
    "plt.axis('tight')\n",
    "plt.xlabel('alpha')\n",
    "plt.ylabel('weights')\n",
    "plt.title('Lasso coefficients as a function of the regularization');"
   ]
  },
  {
   "cell_type": "code",
   "execution_count": 19,
   "metadata": {},
   "outputs": [
    {
     "name": "stdout",
     "output_type": "stream",
     "text": [
      "alpha:      0 | mean(train_error): 0.1006 | mean(val_error): 0.5555\n",
      "alpha:  1e-05 | mean(train_error): 0.1007 | mean(val_error): 0.5589\n",
      "alpha: 0.0001 | mean(train_error): 0.1008 | mean(val_error): 0.4845\n",
      "alpha:  0.001 | mean(train_error): 0.1034 | mean(val_error): 0.3934\n",
      "alpha:   0.01 | mean(train_error): 0.1102 | mean(val_error): 0.1402\n",
      "alpha:    0.1 | mean(train_error): 0.1269 | mean(val_error): 0.1587\n",
      "alpha:      1 | mean(train_error): 1.3381 | mean(val_error): 1.7262\n"
     ]
    }
   ],
   "source": [
    "K = 10\n",
    "kf = KFold(n_splits=K, shuffle=True, random_state=42)\n",
    "# alphas = [0, 0.00001, 0.0001, 0.001, 0.01, 0.1, 1]\n",
    "\n",
    "for alpha in alphas:\n",
    "    train_errors = []\n",
    "    validation_errors = []\n",
    "    for train_index, val_index in kf.split(X_poly, Y):\n",
    "        \n",
    "        # split data\n",
    "        X_train, X_val = X_poly[train_index], X_poly[val_index]\n",
    "        y_train, y_val = Y[train_index], Y[val_index]\n",
    "\n",
    "        # instantiate model\n",
    "        lasso = Lasso(alpha=alpha, fit_intercept=True, random_state=77)\n",
    "        \n",
    "        #calculate errors\n",
    "        train_error, val_error = calc_metrics(X_train, y_train, X_val, y_val, lasso)\n",
    "        \n",
    "        # append to appropriate list\n",
    "        train_errors.append(train_error)\n",
    "        validation_errors.append(val_error)\n",
    "    \n",
    "    # generate report\n",
    "    print('alpha: {:6} | mean(train_error): {} | mean(val_error): {}'.\n",
    "          format(alpha,\n",
    "                 round(np.mean(train_errors),4),\n",
    "                 round(np.mean(validation_errors),4)))"
   ]
  },
  {
   "cell_type": "markdown",
   "metadata": {},
   "source": [
    "Taking into account the above obtained graphs, we can say that the optimal value for λ (lasso regularization) is 0.01."
   ]
  },
  {
   "cell_type": "code",
   "execution_count": 20,
   "metadata": {},
   "outputs": [],
   "source": [
    "lasso = Lasso(alpha=0.01).fit(X_poly, Y)"
   ]
  },
  {
   "cell_type": "code",
   "execution_count": 21,
   "metadata": {
    "scrolled": true
   },
   "outputs": [
    {
     "data": {
      "text/plain": [
       "array([ 0.        ,  0.48146376,  0.47425746,  1.3940553 ,  0.        ,\n",
       "        0.12712897,  0.        ,  0.        , -0.        ,  0.        ,\n",
       "       -0.        ])"
      ]
     },
     "execution_count": 21,
     "metadata": {},
     "output_type": "execute_result"
    }
   ],
   "source": [
    "lasso.coef_"
   ]
  },
  {
   "cell_type": "markdown",
   "metadata": {},
   "source": [
    "So we must choose X^1, X^2, X^3, X^5"
   ]
  }
 ],
 "metadata": {
  "kernelspec": {
   "display_name": "Python 3",
   "language": "python",
   "name": "python3"
  },
  "language_info": {
   "codemirror_mode": {
    "name": "ipython",
    "version": 3
   },
   "file_extension": ".py",
   "mimetype": "text/x-python",
   "name": "python",
   "nbconvert_exporter": "python",
   "pygments_lexer": "ipython3",
   "version": "3.7.6"
  }
 },
 "nbformat": 4,
 "nbformat_minor": 2
}
