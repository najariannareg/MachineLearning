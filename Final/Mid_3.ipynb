{
 "cells": [
  {
   "cell_type": "code",
   "execution_count": 1,
   "metadata": {},
   "outputs": [],
   "source": [
    "import numpy as np\n",
    "import pandas as pd\n",
    "import seaborn as sns\n",
    "import matplotlib.pyplot as plt\n",
    "\n",
    "from sklearn.datasets import make_regression\n",
    "from sklearn.datasets import make_gaussian_quantiles\n",
    "\n",
    "from sklearn.tree import DecisionTreeRegressor\n",
    "from sklearn.ensemble import RandomForestRegressor\n",
    "from sklearn.ensemble import AdaBoostRegressor\n",
    "\n",
    "from sklearn.svm import SVC\n",
    "from sklearn.svm import SVR\n",
    "\n",
    "from sklearn.metrics import auc, \\\n",
    "    confusion_matrix, plot_confusion_matrix, classification_report, precision_score, roc_curve, \\\n",
    "    precision_recall_curve, recall_score, f1_score, auc, plot_roc_curve, plot_precision_recall_curve, \\\n",
    "    roc_auc_score,average_precision_score, accuracy_score\n",
    "\n",
    "from sklearn.model_selection import cross_val_score\n",
    "import sklearn as sk\n",
    "from sklearn.model_selection import train_test_split, KFold, GridSearchCV"
   ]
  },
  {
   "cell_type": "markdown",
   "metadata": {},
   "source": [
    "# Problem 1.  Regression by Tree Based Methods"
   ]
  },
  {
   "cell_type": "code",
   "execution_count": 2,
   "metadata": {},
   "outputs": [],
   "source": [
    "X1,y1 = make_regression(n_samples = 1000, n_features=7, n_informative=3, random_state= 66, noise = 10)"
   ]
  },
  {
   "cell_type": "code",
   "execution_count": 3,
   "metadata": {},
   "outputs": [
    {
     "name": "stdout",
     "output_type": "stream",
     "text": [
      "Train feature set shape: (600, 7), Test feature set shape: (400, 7) \n",
      "Train set labels shape: (600,), Test set labels shape: (400,) \n"
     ]
    }
   ],
   "source": [
    "X_train, X_test, y_train, y_test = train_test_split(X1, y1, test_size = 0.4, random_state = 0)\n",
    "print(\"Train feature set shape: %s, Test feature set shape: %s \" % (X_train.shape, X_test.shape))\n",
    "print(\"Train set labels shape: %s, Test set labels shape: %s \" % (y_train.shape, y_test.shape))"
   ]
  },
  {
   "cell_type": "code",
   "execution_count": 4,
   "metadata": {},
   "outputs": [
    {
     "name": "stdout",
     "output_type": "stream",
     "text": [
      "max_depth val: 4, CV Score Avg: 0.546472 \n",
      "max_depth val: 8, CV Score Avg: 0.671259 \n",
      "max_depth val: 12, CV Score Avg: 0.725973 \n",
      "max_depth val: 16, CV Score Avg: 0.743565 \n",
      "max_depth val: 20, CV Score Avg: 0.754882 \n",
      "max_depth val: 24, CV Score Avg: 0.778278 \n",
      "max_depth val: 28, CV Score Avg: 0.786303 \n",
      "max_depth val: 32, CV Score Avg: 0.797782 \n",
      "max_depth val: 36, CV Score Avg: 0.80383 \n",
      "max_depth val: 40, CV Score Avg: 0.80919 \n",
      "max_depth val: 44, CV Score Avg: 0.811414 \n",
      "max_depth val: 48, CV Score Avg: 0.817357 \n",
      "max_depth val: 52, CV Score Avg: 0.821158 \n",
      "max_depth val: 56, CV Score Avg: 0.821025 \n",
      "max_depth val: 60, CV Score Avg: 0.822432 \n"
     ]
    }
   ],
   "source": [
    "max_leaf_param_list = np.arange(4, 64,4)\n",
    "score_results1 = []\n",
    "\n",
    "for l in max_leaf_param_list:\n",
    "    dt_reg = DecisionTreeRegressor(max_leaf_nodes = l)\n",
    "    #dt_reg = dt_reg.fit(X_train, y_train)\n",
    "    score = cross_val_score(dt_reg, X_train, y_train, cv = 3) \n",
    "    score_results1.append(np.mean(score))\n",
    "        \n",
    "    print(\"max_depth val: %s, CV Score Avg: %s \" % (l, round(np.mean(score), 6)))"
   ]
  },
  {
   "cell_type": "code",
   "execution_count": 5,
   "metadata": {},
   "outputs": [
    {
     "data": {
      "image/png": "[encoded data removed]",
      "text/plain": [
       "<Figure size 1080x576 with 1 Axes>"
      ]
     },
     "metadata": {
      "needs_background": "light"
     },
     "output_type": "display_data"
    }
   ],
   "source": [
    "plt.figure(figsize = (15,8)) \n",
    "plt.plot(max_leaf_param_list, np.array(score_results1), label = \"AVG CV Score\")\n",
    "plt.title(\"DecisionTreeRegressor: AVG CV score for each value of max_depth\")\n",
    "plt.xlabel(\"max_leaf_nodes\")\n",
    "plt.ylabel(\"CV score\")\n",
    "\n",
    "plt.legend()\n",
    "plt.show()"
   ]
  },
  {
   "cell_type": "code",
   "execution_count": 6,
   "metadata": {},
   "outputs": [
    {
     "name": "stdout",
     "output_type": "stream",
     "text": [
      "Optimal max_leaf_nodes value using CV: 60\n"
     ]
    }
   ],
   "source": [
    "opt_max_leaf =  max_leaf_param_list[np.argmax(score_results1)]\n",
    "\n",
    "print(\"Optimal max_leaf_nodes value using CV: %s\" % opt_max_leaf)"
   ]
  },
  {
   "cell_type": "code",
   "execution_count": 7,
   "metadata": {},
   "outputs": [],
   "source": [
    "Reg_A = DecisionTreeRegressor(max_leaf_nodes = opt_max_leaf, random_state = 66 )\n",
    "Reg_A = Reg_A.fit(X_train,y_train)\n",
    "\n",
    "reg_A_train_score = Reg_A.score(X_train,y_train)"
   ]
  },
  {
   "cell_type": "code",
   "execution_count": 8,
   "metadata": {},
   "outputs": [
    {
     "data": {
      "text/plain": [
       "0.9549263282655477"
      ]
     },
     "execution_count": 8,
     "metadata": {},
     "output_type": "execute_result"
    }
   ],
   "source": [
    "reg_A_train_score"
   ]
  },
  {
   "cell_type": "code",
   "execution_count": 9,
   "metadata": {},
   "outputs": [],
   "source": [
    "param_grid = {'n_estimators' : [200, 400, 800, 1000], \n",
    "              \"max_features\": [2,3,4,5,6]}\n",
    "\n",
    "mod_rand = RandomForestRegressor(random_state = 66, criterion='mse')\n",
    "\n",
    "Reg_B = GridSearchCV(mod_rand, param_grid = param_grid, cv = 3, scoring = \"r2\")\n",
    "Reg_B = Reg_B.fit(X_train,y_train)"
   ]
  },
  {
   "cell_type": "code",
   "execution_count": 44,
   "metadata": {},
   "outputs": [
    {
     "data": {
      "text/plain": [
       "RandomForestRegressor(bootstrap=True, ccp_alpha=0.0, criterion='mse',\n",
       "                      max_depth=None, max_features=6, max_leaf_nodes=None,\n",
       "                      max_samples=None, min_impurity_decrease=0.0,\n",
       "                      min_impurity_split=None, min_samples_leaf=1,\n",
       "                      min_samples_split=2, min_weight_fraction_leaf=0.0,\n",
       "                      n_estimators=400, n_jobs=None, oob_score=False,\n",
       "                      random_state=66, verbose=0, warm_start=False)"
      ]
     },
     "execution_count": 44,
     "metadata": {},
     "output_type": "execute_result"
    }
   ],
   "source": [
    "Reg_B.best_estimator_"
   ]
  },
  {
   "cell_type": "code",
   "execution_count": 45,
   "metadata": {},
   "outputs": [
    {
     "data": {
      "text/plain": [
       "{'max_features': 6, 'n_estimators': 400}"
      ]
     },
     "execution_count": 45,
     "metadata": {},
     "output_type": "execute_result"
    }
   ],
   "source": [
    "Reg_B.best_params_"
   ]
  },
  {
   "cell_type": "code",
   "execution_count": 12,
   "metadata": {},
   "outputs": [],
   "source": [
    "reg_B_train_score = Reg_B.best_estimator_.score(X_train, y_train)"
   ]
  },
  {
   "cell_type": "code",
   "execution_count": 13,
   "metadata": {},
   "outputs": [
    {
     "data": {
      "text/plain": [
       "0.9917784717010991"
      ]
     },
     "execution_count": 13,
     "metadata": {},
     "output_type": "execute_result"
    }
   ],
   "source": [
    "reg_B_train_score"
   ]
  },
  {
   "cell_type": "code",
   "execution_count": 46,
   "metadata": {},
   "outputs": [],
   "source": [
    "param_grid = {'n_estimators' : [200, 300, 500, 700, 1000], \n",
    "              'base_estimator__max_depth': [1,2,3]}\n",
    "\n",
    "mod_ada = AdaBoostRegressor(base_estimator = DecisionTreeRegressor(criterion=\"mse\"), random_state = 66)\n",
    "\n",
    "Reg_C = GridSearchCV(mod_ada, param_grid = param_grid, cv = 3)\n",
    "Reg_C = Reg_C.fit(X_train,y_train)"
   ]
  },
  {
   "cell_type": "code",
   "execution_count": 47,
   "metadata": {},
   "outputs": [
    {
     "data": {
      "text/plain": [
       "{'base_estimator__max_depth': 3, 'n_estimators': 500}"
      ]
     },
     "execution_count": 47,
     "metadata": {},
     "output_type": "execute_result"
    }
   ],
   "source": [
    "Reg_C.best_params_"
   ]
  },
  {
   "cell_type": "code",
   "execution_count": 48,
   "metadata": {},
   "outputs": [],
   "source": [
    "reg_C_train_score = Reg_C.best_estimator_.score(X_train,y_train)"
   ]
  },
  {
   "cell_type": "code",
   "execution_count": 49,
   "metadata": {},
   "outputs": [
    {
     "data": {
      "text/plain": [
       "0.9283655526045946"
      ]
     },
     "execution_count": 49,
     "metadata": {},
     "output_type": "execute_result"
    }
   ],
   "source": [
    "reg_C_train_score"
   ]
  },
  {
   "cell_type": "code",
   "execution_count": 18,
   "metadata": {},
   "outputs": [
    {
     "name": "stdout",
     "output_type": "stream",
     "text": [
      "0.9549263282655477\n",
      "0.9917784717010991\n",
      "0.9283655526045946\n"
     ]
    }
   ],
   "source": [
    "print(reg_A_train_score)\n",
    "print(reg_B_train_score)\n",
    "print(reg_C_train_score)"
   ]
  },
  {
   "cell_type": "code",
   "execution_count": 19,
   "metadata": {},
   "outputs": [],
   "source": [
    "reg_A_test_score = Reg_A.score(X_test,y_test)\n",
    "reg_B_test_score = Reg_B.best_estimator_.score(X_test, y_test)\n",
    "reg_C_test_score = Reg_C.best_estimator_.score(X_test, y_test)"
   ]
  },
  {
   "cell_type": "code",
   "execution_count": 20,
   "metadata": {},
   "outputs": [
    {
     "name": "stdout",
     "output_type": "stream",
     "text": [
      "0.8441623742296558\n",
      "0.9428841521604249\n",
      "0.9069495930080262\n"
     ]
    }
   ],
   "source": [
    "print(reg_A_test_score)\n",
    "print(reg_B_test_score)\n",
    "print(reg_C_test_score)"
   ]
  },
  {
   "cell_type": "markdown",
   "metadata": {},
   "source": [
    "# Problem II. Classification by SVC (score = 50)"
   ]
  },
  {
   "cell_type": "code",
   "execution_count": 50,
   "metadata": {},
   "outputs": [
    {
     "name": "stdout",
     "output_type": "stream",
     "text": [
      "(array([0, 1]), array([500, 500]))\n"
     ]
    }
   ],
   "source": [
    "X2, y2 = make_gaussian_quantiles(n_samples=1000, n_features=12, n_classes = 2, random_state= 66)\n",
    "print( np.unique(y2, return_counts = True) )"
   ]
  },
  {
   "cell_type": "code",
   "execution_count": 51,
   "metadata": {},
   "outputs": [
    {
     "name": "stdout",
     "output_type": "stream",
     "text": [
      "Train feature set shape: (700, 12), Test feature set shape: (300, 12) \n",
      "Train set labels shape: (700,), Test set labels shape: (300,) \n"
     ]
    }
   ],
   "source": [
    "X_train2, X_test2, y_train2, y_test2 = train_test_split(X2, y2, test_size = 0.3, random_state = 0)\n",
    "print(\"Train feature set shape: %s, Test feature set shape: %s \" % (X_train2.shape, X_test2.shape))\n",
    "print(\"Train set labels shape: %s, Test set labels shape: %s \" % (y_train2.shape, y_test2.shape))"
   ]
  },
  {
   "cell_type": "code",
   "execution_count": 62,
   "metadata": {},
   "outputs": [],
   "source": [
    "degree_grid = np.array([1,2,3])\n",
    "#c_param_grid = [0.01, 0.1, 1]\n",
    "c_param_grid = np.linspace(0.1, 10, 20)\n",
    "\n",
    "mod_svm_poly = SVC(kernel = \"poly\", random_state = 66, probability = True)\n",
    "opt_mod_svm_poly = GridSearchCV(mod_svm_poly, cv = 3, scoring = \"accuracy\",\n",
    "                             param_grid = {'degree': degree_grid, 'C': c_param_grid})\n",
    "Class_A = opt_mod_svm_poly.fit(X_train2,y_train2)"
   ]
  },
  {
   "cell_type": "code",
   "execution_count": 63,
   "metadata": {},
   "outputs": [
    {
     "name": "stdout",
     "output_type": "stream",
     "text": [
      "Class_A Estimator SVC(C=6.873684210526316, break_ties=False, cache_size=200, class_weight=None,\n",
      "    coef0=0.0, decision_function_shape='ovr', degree=2, gamma='scale',\n",
      "    kernel='poly', max_iter=-1, probability=True, random_state=66,\n",
      "    shrinking=True, tol=0.001, verbose=False)\n"
     ]
    }
   ],
   "source": [
    "print(\"Class_A Estimator %s\" % Class_A.best_estimator_)"
   ]
  },
  {
   "cell_type": "code",
   "execution_count": 64,
   "metadata": {},
   "outputs": [
    {
     "name": "stdout",
     "output_type": "stream",
     "text": [
      "Class_A Best Params {'C': 6.873684210526316, 'degree': 2}\n"
     ]
    }
   ],
   "source": [
    "print(\"Class_A Best Params %s\" % Class_A.best_params_)"
   ]
  },
  {
   "cell_type": "code",
   "execution_count": 65,
   "metadata": {},
   "outputs": [
    {
     "name": "stdout",
     "output_type": "stream",
     "text": [
      "Class_A accuracy for train data 0.9757142857142858\n"
     ]
    }
   ],
   "source": [
    "print(\"Class_A accuracy for train data %s\" % Class_A.best_estimator_.score(X_train2, y_train2))"
   ]
  },
  {
   "cell_type": "code",
   "execution_count": 67,
   "metadata": {},
   "outputs": [],
   "source": [
    "y_pred_A = Class_A.predict(X_test2)\n",
    "pred_prob_A = Class_A.predict_proba(X_test2)"
   ]
  },
  {
   "cell_type": "code",
   "execution_count": 95,
   "metadata": {},
   "outputs": [],
   "source": [
    "gamma_grid = [0.001, 0.01, 0.1, 1, 10]\n",
    "\n",
    "mod_svm_radial = SVC(kernel = \"rbf\", probability = True, random_state = 66)\n",
    "opt_mod_svm_radial = GridSearchCV(mod_svm_radial, cv = 3, scoring = \"accuracy\",\n",
    "                                  param_grid = {'C': c_param_grid,'gamma':gamma_grid})\n",
    "Class_B = opt_mod_svm_radial.fit(X_train2, y_train2)"
   ]
  },
  {
   "cell_type": "code",
   "execution_count": 96,
   "metadata": {},
   "outputs": [
    {
     "name": "stdout",
     "output_type": "stream",
     "text": [
      "Class_B best Estimator SVC(C=3.2263157894736847, break_ties=False, cache_size=200, class_weight=None,\n",
      "    coef0=0.0, decision_function_shape='ovr', degree=3, gamma=0.1, kernel='rbf',\n",
      "    max_iter=-1, probability=True, random_state=66, shrinking=True, tol=0.001,\n",
      "    verbose=False)\n"
     ]
    }
   ],
   "source": [
    "print(\"Class_B best Estimator %s\" % Class_B.best_estimator_)"
   ]
  },
  {
   "cell_type": "code",
   "execution_count": 97,
   "metadata": {},
   "outputs": [
    {
     "name": "stdout",
     "output_type": "stream",
     "text": [
      "Class_B Best Params {'C': 3.2263157894736847, 'gamma': 0.1}\n"
     ]
    }
   ],
   "source": [
    "print(\"Class_B Best Params %s\" % Class_B.best_params_)"
   ]
  },
  {
   "cell_type": "code",
   "execution_count": 98,
   "metadata": {},
   "outputs": [
    {
     "name": "stdout",
     "output_type": "stream",
     "text": [
      "Class_B accuracy for train data 1.0\n"
     ]
    }
   ],
   "source": [
    "print(\"Class_B accuracy for train data %s\" % Class_B.best_estimator_.score(X_train2, y_train2))"
   ]
  },
  {
   "cell_type": "code",
   "execution_count": 99,
   "metadata": {},
   "outputs": [],
   "source": [
    "y_pred_B = Class_B.predict(X_test2)\n",
    "pred_prob_B = Class_B.predict_proba(X_test2)"
   ]
  },
  {
   "cell_type": "markdown",
   "metadata": {},
   "source": [
    "### Compare models “Class_A” and “Class_B” on the test data by accuracies"
   ]
  },
  {
   "cell_type": "code",
   "execution_count": 78,
   "metadata": {},
   "outputs": [
    {
     "name": "stdout",
     "output_type": "stream",
     "text": [
      "Class_A accuracy for test data 0.91\n",
      "Class_B accuracy for train data 0.9233333333333333\n"
     ]
    }
   ],
   "source": [
    "print(\"Class_A accuracy for test data %s\" % Class_A.best_estimator_.score(X_test2, y_test2))\n",
    "print(\"Class_B accuracy for train data %s\" % Class_B.best_estimator_.score(X_test2, y_test2))"
   ]
  },
  {
   "cell_type": "markdown",
   "metadata": {},
   "source": [
    "### Compare models “Class_A” and “Class_B” on the test data by ROC curves and the corresponding AUCs"
   ]
  },
  {
   "cell_type": "code",
   "execution_count": 81,
   "metadata": {},
   "outputs": [
    {
     "name": "stdout",
     "output_type": "stream",
     "text": [
      "ROC AUC FOR CLASS_A \n",
      "\n",
      "ROC: AUC Class 0:  0.979551920341394\n",
      "ROC: AUC Class 1:  0.979551920341394\n"
     ]
    }
   ],
   "source": [
    "print(\"ROC AUC FOR CLASS_A \\n\")\n",
    "fpr0_A, tpr0_A, thresholds0_A = roc_curve(y_test2, pred_prob_A[:,0], pos_label = 0) \n",
    "print(\"ROC: AUC Class 0: \", auc(fpr0_A, tpr0_A))\n",
    "\n",
    "fpr1_A, tpr1_A, thresholds1_A = roc_curve(y_test2, pred_prob_A[:,1], pos_label = 1)\n",
    "print(\"ROC: AUC Class 1: \", auc(fpr1_A, tpr1_A))"
   ]
  },
  {
   "cell_type": "code",
   "execution_count": 82,
   "metadata": {},
   "outputs": [
    {
     "name": "stdout",
     "output_type": "stream",
     "text": [
      "ROC AUC FOR CLASS_B \n",
      "\n",
      "ROC: AUC Class 0:  0.9806187766714083\n",
      "ROC: AUC Class 1:  0.9806187766714082\n"
     ]
    }
   ],
   "source": [
    "print(\"ROC AUC FOR CLASS_B \\n\")\n",
    "fpr0_B, tpr0_B, thresholds0_B = roc_curve(y_test2, pred_prob_B[:,0], pos_label = 0) \n",
    "print(\"ROC: AUC Class 0: \", auc(fpr0_B, tpr0_B))\n",
    "\n",
    "fpr1_B, tpr1_B, thresholds1_B = roc_curve(y_test2, pred_prob_B[:,1], pos_label = 1)\n",
    "print(\"ROC: AUC Class 1: \", auc(fpr1_B, tpr1_B))"
   ]
  },
  {
   "cell_type": "code",
   "execution_count": 83,
   "metadata": {},
   "outputs": [
    {
     "data": {
      "image/png": "[encoded data removed]",
      "text/plain": [
       "<Figure size 1080x360 with 2 Axes>"
      ]
     },
     "metadata": {
      "needs_background": "light"
     },
     "output_type": "display_data"
    }
   ],
   "source": [
    "plt.figure(figsize=(15, 5))\n",
    "\n",
    "plt.subplot(1,2,1)\n",
    "plt.plot(fpr0_A, tpr0_A, \"-\", label = \"Class 0\")\n",
    "plt.plot(fpr1_A, tpr1_A, \"-\", color = 'r', label = \"Class 1\")\n",
    "plt.title(\"ROC for Class_A\")\n",
    "plt.xlabel(\"False Positive Rate\")\n",
    "plt.ylabel(\"True Positive Rate\")\n",
    "plt.legend()\n",
    "\n",
    "plt.subplot(1,2,2)\n",
    "plt.plot(fpr0_B, tpr0_B, \"-\", label = \"Class 0\")\n",
    "plt.plot(fpr1_B, tpr1_B, \"-\", color = 'r', label = \"Class 1\")\n",
    "plt.title(\"ROC for Class_B\")\n",
    "plt.xlabel(\"False Positive Rate\")\n",
    "plt.ylabel(\"True Positive Rate\")\n",
    "plt.legend()\n",
    "\n",
    "plt.show()"
   ]
  },
  {
   "cell_type": "markdown",
   "metadata": {},
   "source": [
    "### Compare models “Class_A” and “Class_B” on the test data by PR curves for each class and the corresponding PR-AUCs"
   ]
  },
  {
   "cell_type": "code",
   "execution_count": 84,
   "metadata": {},
   "outputs": [
    {
     "name": "stdout",
     "output_type": "stream",
     "text": [
      "PR AUC FOR CLASS_A \n",
      "\n",
      "Precision-Recall: AUC Class 0: 0.980876926332565\n",
      "Precision-Recall: AUC Class 1: 0.980120388243721\n"
     ]
    }
   ],
   "source": [
    "print(\"PR AUC FOR CLASS_A \\n\")\n",
    "p0_A, r0_A, thresholds0_A = precision_recall_curve(y_test2, pred_prob_A[:,0], pos_label = 0)\n",
    "print(\"Precision-Recall: AUC Class 0:\", auc(r0_A, p0_A))\n",
    "\n",
    "p1_A, r1_A, thresholds1_A = precision_recall_curve(y_test2, pred_prob_A[:,1], pos_label = 1)\n",
    "print(\"Precision-Recall: AUC Class 1:\", auc(r1_A, p1_A))"
   ]
  },
  {
   "cell_type": "code",
   "execution_count": 85,
   "metadata": {},
   "outputs": [
    {
     "name": "stdout",
     "output_type": "stream",
     "text": [
      "PR AUC FOR CLASS_B \n",
      "\n",
      "Precision-Recall: AUC Class 0: 0.9820059189726763\n",
      "Precision-Recall: AUC Class 1: 0.980587840058248\n"
     ]
    }
   ],
   "source": [
    "print(\"PR AUC FOR CLASS_B \\n\")\n",
    "p0_B, r0_B, thresholds0_B = precision_recall_curve(y_test2, pred_prob_B[:,0], pos_label = 0)\n",
    "print(\"Precision-Recall: AUC Class 0:\", auc(r0_B, p0_B))\n",
    "\n",
    "p1_B, r1_B, thresholds1_B = precision_recall_curve(y_test2, pred_prob_B[:,1], pos_label = 1)\n",
    "print(\"Precision-Recall: AUC Class 1:\", auc(r1_B, p1_B))\n"
   ]
  },
  {
   "cell_type": "code",
   "execution_count": 86,
   "metadata": {},
   "outputs": [
    {
     "data": {
      "image/png": "[encoded data removed]",
      "text/plain": [
       "<Figure size 1080x360 with 2 Axes>"
      ]
     },
     "metadata": {
      "needs_background": "light"
     },
     "output_type": "display_data"
    }
   ],
   "source": [
    "plt.figure(figsize=(15, 5))\n",
    "\n",
    "plt.subplot(1,2,1)\n",
    "plt.plot(r0_A, p0_A, \"-\", label = \"Class 0\")\n",
    "plt.plot(r1_A, p1_A, \"-\", color = 'r', label = \"Class 1\")\n",
    "plt.xlabel(\"Recall\")\n",
    "plt.ylabel(\"Precision\")\n",
    "plt.title(\"PR-curve for Class A\")\n",
    "plt.legend()\n",
    "\n",
    "plt.subplot(1,2,2)\n",
    "plt.plot(r0_B, p0_B, \"-\", label = \"Class 0\")\n",
    "plt.plot(r1_B, p1_B, \"-\", color = 'r', label = \"Class 1\")\n",
    "plt.legend()\n",
    "plt.xlabel(\"Recall\")\n",
    "plt.ylabel(\"Precision\")\n",
    "plt.title(\"PR-curve for Class B\")\n",
    "\n",
    "plt.show()"
   ]
  },
  {
   "cell_type": "code",
   "execution_count": 40,
   "metadata": {},
   "outputs": [
    {
     "name": "stdout",
     "output_type": "stream",
     "text": [
      "PR AUC FOR CLASS_A \n",
      "\n",
      "Precision-Recall: AUC Class 0: 0.9803645582226277\n",
      "Precision-Recall: AUC Class 1: 0.9810124465111474\n",
      "\n",
      " PR AUC FOR CLASS_B \n",
      "\n",
      "Precision-Recall: AUC Class 0: 0.9845432251053864\n",
      "Precision-Recall: AUC Class 1: 0.9839528286659666\n"
     ]
    }
   ],
   "source": [
    "print(\"PR AUC FOR CLASS_A \\n\")\n",
    "\n",
    "print(\"Precision-Recall: AUC Class 0:\", auc(r0_A, p0_A))\n",
    "print(\"Precision-Recall: AUC Class 1:\", auc(r1_A, p1_A))\n",
    "\n",
    "print(\"\\n PR AUC FOR CLASS_B \\n\")\n",
    "\n",
    "print(\"Precision-Recall: AUC Class 0:\", auc(r0_B, p0_B))\n",
    "print(\"Precision-Recall: AUC Class 1:\", auc(r1_B, p1_B))\n"
   ]
  },
  {
   "cell_type": "markdown",
   "metadata": {},
   "source": [
    "### Which models overfit train data?"
   ]
  },
  {
   "cell_type": "code",
   "execution_count": 87,
   "metadata": {},
   "outputs": [
    {
     "name": "stdout",
     "output_type": "stream",
     "text": [
      "Class_A accuracy for train data 0.9757142857142858\n",
      "Class_A accuracy for test data 0.91 \n",
      "\n",
      "Class_B accuracy for train data 1.0\n",
      "Class_B accuracy for train data 0.9233333333333333\n"
     ]
    }
   ],
   "source": [
    "print(\"Class_A accuracy for train data %s\" % Class_A.best_estimator_.score(X_train2, y_train2))\n",
    "print(\"Class_A accuracy for test data %s \\n\" % Class_A.best_estimator_.score(X_test2, y_test2))\n",
    "\n",
    "\n",
    "print(\"Class_B accuracy for train data %s\" % Class_B.best_estimator_.score(X_train2, y_train2))\n",
    "print(\"Class_B accuracy for train data %s\" % Class_B.best_estimator_.score(X_test2, y_test2))"
   ]
  },
  {
   "cell_type": "code",
   "execution_count": 100,
   "metadata": {},
   "outputs": [
    {
     "data": {
      "text/plain": [
       "0.06571428571428573"
      ]
     },
     "execution_count": 100,
     "metadata": {},
     "output_type": "execute_result"
    }
   ],
   "source": [
    "0.9757142857142858- 0.91 "
   ]
  },
  {
   "cell_type": "code",
   "execution_count": 101,
   "metadata": {},
   "outputs": [
    {
     "data": {
      "text/plain": [
       "0.07666666666666666"
      ]
     },
     "execution_count": 101,
     "metadata": {},
     "output_type": "execute_result"
    }
   ],
   "source": [
    "1.0 - 0.9233333333333333"
   ]
  },
  {
   "cell_type": "code",
   "execution_count": null,
   "metadata": {},
   "outputs": [],
   "source": []
  }
 ],
 "metadata": {
  "kernelspec": {
   "display_name": "Python 3",
   "language": "python",
   "name": "python3"
  },
  "language_info": {
   "codemirror_mode": {
    "name": "ipython",
    "version": 3
   },
   "file_extension": ".py",
   "mimetype": "text/x-python",
   "name": "python",
   "nbconvert_exporter": "python",
   "pygments_lexer": "ipython3",
   "version": "3.7.7"
  }
 },
 "nbformat": 4,
 "nbformat_minor": 4
}
