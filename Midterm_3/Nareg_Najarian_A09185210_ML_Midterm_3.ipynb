{
 "cells": [
  {
   "cell_type": "markdown",
   "metadata": {},
   "source": [
    "# Nareg Najarian, ID: A09185210"
   ]
  },
  {
   "cell_type": "code",
   "execution_count": 1,
   "metadata": {},
   "outputs": [],
   "source": [
    "import numpy as np\n",
    "import pandas as pd\n",
    "import matplotlib.pyplot as plt\n",
    "import seaborn as sns\n",
    "from sklearn import tree\n",
    "from sklearn.tree import DecisionTreeRegressor, DecisionTreeClassifier\n",
    "from sklearn.model_selection import train_test_split, KFold, cross_val_score,\\\n",
    "    GridSearchCV\n",
    "from sklearn.datasets import make_regression, make_classification, make_moons,\\\n",
    "    make_gaussian_quantiles\n",
    "from sklearn.metrics import accuracy_score, precision_score, recall_score,\\\n",
    "    classification_report, confusion_matrix, plot_confusion_matrix,\\\n",
    "    roc_curve, auc, precision_recall_curve\n",
    "from sklearn.ensemble import RandomForestRegressor, RandomForestClassifier,\\\n",
    "    GradientBoostingRegressor, GradientBoostingClassifier,\\\n",
    "    AdaBoostRegressor, AdaBoostClassifier\n",
    "from sklearn.preprocessing import LabelEncoder\n",
    "from sklearn.svm import SVR, SVC \n",
    "from sklearn.calibration import CalibratedClassifierCV"
   ]
  },
  {
   "cell_type": "markdown",
   "metadata": {},
   "source": [
    "# Problem 1 Regression"
   ]
  },
  {
   "cell_type": "code",
   "execution_count": 2,
   "metadata": {},
   "outputs": [
    {
     "name": "stdout",
     "output_type": "stream",
     "text": [
      "X has shapes: (1000, 7), y has shape: (1000,)\n"
     ]
    }
   ],
   "source": [
    "X, y = make_regression(n_samples = 1000, n_features = 7, n_informative = 3, noise = 10, random_state = 10)\n",
    "print(\"X has shapes: %s, y has shape: %s\" % (X.shape, y.shape))"
   ]
  },
  {
   "cell_type": "code",
   "execution_count": 3,
   "metadata": {},
   "outputs": [
    {
     "name": "stdout",
     "output_type": "stream",
     "text": [
      "Train feature set shape: (600, 7), Test feature set shape: (400, 7) \n",
      "Train set labels shape: (600,), Test set labels shape: (400,) \n"
     ]
    }
   ],
   "source": [
    "X_train, X_test, y_train, y_test = train_test_split(X, y, test_size = 0.4, random_state = 10)\n",
    "print(\"Train feature set shape: %s, Test feature set shape: %s \" % (X_train.shape, X_test.shape))\n",
    "print(\"Train set labels shape: %s, Test set labels shape: %s \" % (y_train.shape, y_test.shape))"
   ]
  },
  {
   "cell_type": "markdown",
   "metadata": {},
   "source": [
    "## 1.1 DecisionTree"
   ]
  },
  {
   "cell_type": "code",
   "execution_count": 4,
   "metadata": {
    "scrolled": true
   },
   "outputs": [
    {
     "name": "stdout",
     "output_type": "stream",
     "text": [
      "depth: 15, score: 0.9564657955626453\n",
      "depth: 16, score: 0.9538549492399265\n",
      "depth: 17, score: 0.9545136375448355\n",
      "depth: 18, score: 0.9553524236810317\n",
      "depth: 19, score: 0.955372220484476\n",
      "depth: 20, score: 0.955788976596557\n",
      "depth: 21, score: 0.9567970009182177\n",
      "depth: 22, score: 0.9572971758684631\n",
      "depth: 23, score: 0.9567887108816464\n",
      "depth: 24, score: 0.9570293417356686\n",
      "depth: 25, score: 0.957614993363995\n",
      "depth: 26, score: 0.9575881441876687\n",
      "depth: 27, score: 0.9568920665831073\n",
      "depth: 28, score: 0.9563753007583046\n",
      "depth: 29, score: 0.956765295474229\n",
      "depth: 30, score: 0.9566712661920956\n"
     ]
    }
   ],
   "source": [
    "max_leafs = np.arange(15,31)\n",
    "scores = []\n",
    "\n",
    "for leaf in max_leafs:\n",
    "    mod_dt = DecisionTreeRegressor(max_leaf_nodes = leaf, random_state = 10)\n",
    "    cvs = cross_val_score(mod_dt, X_train, y_train, cv = 3)\n",
    "    score = np.mean(cvs)\n",
    "    scores.append(score)\n",
    "    print(\"depth: %s, score: %s\" % (leaf, score))"
   ]
  },
  {
   "cell_type": "code",
   "execution_count": 5,
   "metadata": {},
   "outputs": [
    {
     "name": "stdout",
     "output_type": "stream",
     "text": [
      "optimal max leaf:  25\n"
     ]
    }
   ],
   "source": [
    "max_index = np.argmax(scores)\n",
    "optimal_max_leaf = max_leafs[max_index]\n",
    "print(\"optimal max leaf: \", optimal_max_leaf)"
   ]
  },
  {
   "cell_type": "code",
   "execution_count": 6,
   "metadata": {
    "scrolled": true
   },
   "outputs": [],
   "source": [
    "Reg_A = DecisionTreeRegressor(max_leaf_nodes = optimal_max_leaf, random_state=10)\n",
    "Reg_A.fit(X_train, y_train)\n",
    "\n",
    "y_train_predict = Reg_A.predict(X_train)\n",
    "y_test_predict = Reg_A.predict(X_test)"
   ]
  },
  {
   "cell_type": "code",
   "execution_count": 7,
   "metadata": {},
   "outputs": [
    {
     "name": "stdout",
     "output_type": "stream",
     "text": [
      "Model Score on X_train: 0.9795\n",
      "Model Score on X_test: 0.9692\n"
     ]
    }
   ],
   "source": [
    "print(\"Model Score on X_train: %s\" % round(Reg_A.score(X_train,y_train), 4))\n",
    "print(\"Model Score on X_test: %s\" % round(Reg_A.score(X_test,y_test), 4))"
   ]
  },
  {
   "cell_type": "markdown",
   "metadata": {},
   "source": [
    "### The optimal value of max_leaf_nodes is 25, the score of Reg_A on train set is 0.9795 and on test set is 0.9692"
   ]
  },
  {
   "cell_type": "markdown",
   "metadata": {},
   "source": [
    "## 1.2 RandomForest"
   ]
  },
  {
   "cell_type": "code",
   "execution_count": 8,
   "metadata": {},
   "outputs": [
    {
     "data": {
      "text/plain": [
       "GridSearchCV(cv=3, error_score=nan,\n",
       "             estimator=RandomForestRegressor(bootstrap=True, ccp_alpha=0.0,\n",
       "                                             criterion='mse', max_depth=None,\n",
       "                                             max_features='auto',\n",
       "                                             max_leaf_nodes=None,\n",
       "                                             max_samples=None,\n",
       "                                             min_impurity_decrease=0.0,\n",
       "                                             min_impurity_split=None,\n",
       "                                             min_samples_leaf=1,\n",
       "                                             min_samples_split=2,\n",
       "                                             min_weight_fraction_leaf=0.0,\n",
       "                                             n_estimators=100, n_jobs=None,\n",
       "                                             oob_score=False, random_state=10,\n",
       "                                             verbose=0, warm_start=False),\n",
       "             iid='deprecated', n_jobs=None,\n",
       "             param_grid={'max_features': [1, 2, 3, 4],\n",
       "                         'n_estimators': [10, 50, 100, 200, 500, 1000, 1500,\n",
       "                                          2000]},\n",
       "             pre_dispatch='2*n_jobs', refit=True, return_train_score=False,\n",
       "             scoring=None, verbose=0)"
      ]
     },
     "execution_count": 8,
     "metadata": {},
     "output_type": "execute_result"
    }
   ],
   "source": [
    "param_grid = {'n_estimators' : [10, 50, 100, 200, 500, 1000, 1500, 2000], 'max_features': [1,2,3,4]}\n",
    "mod_rf = RandomForestRegressor(random_state = 10)\n",
    "Reg_B = GridSearchCV(mod_rf, param_grid = param_grid, cv = 3)\n",
    "Reg_B.fit(X_train, y_train)"
   ]
  },
  {
   "cell_type": "code",
   "execution_count": 9,
   "metadata": {},
   "outputs": [
    {
     "data": {
      "text/plain": [
       "{'max_features': 4, 'n_estimators': 500}"
      ]
     },
     "execution_count": 9,
     "metadata": {},
     "output_type": "execute_result"
    }
   ],
   "source": [
    "Reg_B.best_params_"
   ]
  },
  {
   "cell_type": "code",
   "execution_count": 10,
   "metadata": {},
   "outputs": [
    {
     "name": "stdout",
     "output_type": "stream",
     "text": [
      "Model Score on X_train: 0.9959\n",
      "Model Score on X_test: 0.9729\n"
     ]
    }
   ],
   "source": [
    "print(\"Model Score on X_train: %s\" % round(Reg_B.best_estimator_.score(X_train,y_train), 4))\n",
    "print(\"Model Score on X_test: %s\" % round(Reg_B.best_estimator_.score(X_test,y_test), 4))"
   ]
  },
  {
   "cell_type": "markdown",
   "metadata": {},
   "source": [
    "### The optimal value of max_features is 4 and of n_estimators is 500, the score of Reg_B on train set is 0.9959 and on test set is 0.9729"
   ]
  },
  {
   "cell_type": "markdown",
   "metadata": {},
   "source": [
    "## 1.3 AdaBoost"
   ]
  },
  {
   "cell_type": "code",
   "execution_count": 11,
   "metadata": {},
   "outputs": [
    {
     "data": {
      "text/plain": [
       "GridSearchCV(cv=3, error_score=nan,\n",
       "             estimator=AdaBoostRegressor(base_estimator=DecisionTreeRegressor(ccp_alpha=0.0,\n",
       "                                                                              criterion='mse',\n",
       "                                                                              max_depth=None,\n",
       "                                                                              max_features=None,\n",
       "                                                                              max_leaf_nodes=None,\n",
       "                                                                              min_impurity_decrease=0.0,\n",
       "                                                                              min_impurity_split=None,\n",
       "                                                                              min_samples_leaf=1,\n",
       "                                                                              min_samples_split=2,\n",
       "                                                                              min_weight_fraction_leaf=0.0,\n",
       "                                                                              presort='deprecated',\n",
       "                                                                              random_state=None,\n",
       "                                                                              splitter='best'),\n",
       "                                         learning_rate=1.0, loss='linear',\n",
       "                                         n_estimators=50, random_state=10),\n",
       "             iid='deprecated', n_jobs=None,\n",
       "             param_grid={'base_estimator__max_depth': [1, 2, 3],\n",
       "                         'n_estimators': [10, 50, 100, 200, 500, 1000, 1500,\n",
       "                                          2000]},\n",
       "             pre_dispatch='2*n_jobs', refit=True, return_train_score=False,\n",
       "             scoring=None, verbose=0)"
      ]
     },
     "execution_count": 11,
     "metadata": {},
     "output_type": "execute_result"
    }
   ],
   "source": [
    "param_grid = {'n_estimators' : [10, 50, 100, 200, 500, 1000, 1500, 2000], 'base_estimator__max_depth': [1,2,3]}\n",
    "mod_ab = AdaBoostRegressor(base_estimator = DecisionTreeRegressor(), random_state = 10)\n",
    "Reg_C = GridSearchCV(mod_ab, param_grid = param_grid, cv = 3)\n",
    "Reg_C.fit(X_train, y_train)"
   ]
  },
  {
   "cell_type": "code",
   "execution_count": 12,
   "metadata": {},
   "outputs": [
    {
     "data": {
      "text/plain": [
       "{'base_estimator__max_depth': 3, 'n_estimators': 50}"
      ]
     },
     "execution_count": 12,
     "metadata": {},
     "output_type": "execute_result"
    }
   ],
   "source": [
    "Reg_C.best_params_"
   ]
  },
  {
   "cell_type": "code",
   "execution_count": 13,
   "metadata": {},
   "outputs": [
    {
     "name": "stdout",
     "output_type": "stream",
     "text": [
      "Model Score on X_train: 0.9773\n",
      "Model Score on X_test: 0.9675\n"
     ]
    }
   ],
   "source": [
    "print(\"Model Score on X_train: %s\" % round(Reg_C.best_estimator_.score(X_train,y_train), 4))\n",
    "print(\"Model Score on X_test: %s\" % round(Reg_C.best_estimator_.score(X_test,y_test), 4))"
   ]
  },
  {
   "cell_type": "markdown",
   "metadata": {},
   "source": [
    "### The optimal value of max_depth is 3 and of n_estimators is 50, the score of Reg_C on train set is 0.9773 and on test set is 0.9675"
   ]
  },
  {
   "cell_type": "markdown",
   "metadata": {},
   "source": [
    "## 1.4 Comparison of Test Results\n",
    "### test_score_B = 0.9729 > test_score_A = 0.9692 > test_score_C = 09675.\n",
    "### The best model is Reg_B followed by Reg_A, then by Reg_C. in other words RandomForest is the best, then comes DecisionTree, and finally AdaBoost.\n",
    "### Reg_B has a very high train_score = 0.9959 which is good and kind of worrying at the same time. However, all test scores are quite high, all models have very good performance on train and test data, therefore I conclude that none of the models overfit the train data."
   ]
  },
  {
   "cell_type": "markdown",
   "metadata": {},
   "source": [
    "# Problem 2 Classification by SVC"
   ]
  },
  {
   "cell_type": "code",
   "execution_count": 14,
   "metadata": {},
   "outputs": [
    {
     "name": "stdout",
     "output_type": "stream",
     "text": [
      "X has shapes: (1000, 12), y has shape: (1000,)\n"
     ]
    }
   ],
   "source": [
    "X, y = make_gaussian_quantiles(n_samples = 1000, n_features = 12,\\\n",
    "                               n_classes = 2, random_state = 10)\n",
    "print(\"X has shapes: %s, y has shape: %s\" % (X.shape, y.shape))"
   ]
  },
  {
   "cell_type": "code",
   "execution_count": 15,
   "metadata": {},
   "outputs": [
    {
     "name": "stdout",
     "output_type": "stream",
     "text": [
      "Train feature set shape: (700, 12), Test feature set shape: (300, 12) \n",
      "Train set labels shape: (700,), Test set labels shape: (300,) \n"
     ]
    }
   ],
   "source": [
    "X_train, X_test, y_train, y_test = train_test_split(X, y, test_size = 0.3, random_state = 10)\n",
    "print(\"Train feature set shape: %s, Test feature set shape: %s \" % (X_train.shape, X_test.shape))\n",
    "print(\"Train set labels shape: %s, Test set labels shape: %s \" % (y_train.shape, y_test.shape))"
   ]
  },
  {
   "cell_type": "markdown",
   "metadata": {},
   "source": [
    "## 2.1 poly"
   ]
  },
  {
   "cell_type": "code",
   "execution_count": 20,
   "metadata": {},
   "outputs": [
    {
     "data": {
      "text/plain": [
       "GridSearchCV(cv=3, error_score=nan,\n",
       "             estimator=SVC(C=1.0, break_ties=False, cache_size=200,\n",
       "                           class_weight=None, coef0=0.0,\n",
       "                           decision_function_shape='ovr', degree=3,\n",
       "                           gamma='scale', kernel='poly', max_iter=-1,\n",
       "                           probability=True, random_state=10, shrinking=True,\n",
       "                           tol=0.001, verbose=False),\n",
       "             iid='deprecated', n_jobs=None,\n",
       "             param_grid={'C': array([  0.1,  11.2,  22.3,  33.4,  44.5,  55.6,  66.7,  77.8,  88.9,\n",
       "       100. ]),\n",
       "                         'degree': array([1, 2, 3, 4])},\n",
       "             pre_dispatch='2*n_jobs', refit=True, return_train_score=False,\n",
       "             scoring=None, verbose=0)"
      ]
     },
     "execution_count": 20,
     "metadata": {},
     "output_type": "execute_result"
    }
   ],
   "source": [
    "param_grid = {'degree' : np.array([1,2,3,4]), 'C' : np.linspace(0.1, 100, 10)}\n",
    "mod_svc = SVC(kernel = \"poly\", probability = True, random_state=10)\n",
    "Class_A = GridSearchCV(mod_svc, param_grid = param_grid, cv = 3)\n",
    "Class_A.fit(X_train, y_train)"
   ]
  },
  {
   "cell_type": "code",
   "execution_count": 21,
   "metadata": {},
   "outputs": [
    {
     "data": {
      "text/plain": [
       "{'C': 22.300000000000004, 'degree': 2}"
      ]
     },
     "execution_count": 21,
     "metadata": {},
     "output_type": "execute_result"
    }
   ],
   "source": [
    "Class_A.best_params_"
   ]
  },
  {
   "cell_type": "code",
   "execution_count": 22,
   "metadata": {},
   "outputs": [
    {
     "name": "stdout",
     "output_type": "stream",
     "text": [
      "Model Score on X_train: 0.9857\n",
      "Model Score on X_test: 0.9533\n"
     ]
    }
   ],
   "source": [
    "print(\"Model Score on X_train: %s\" % round(Class_A.best_estimator_.score(X_train,y_train), 4))\n",
    "print(\"Model Score on X_test: %s\" % round(Class_A.best_estimator_.score(X_test,y_test), 4))"
   ]
  },
  {
   "cell_type": "code",
   "execution_count": 23,
   "metadata": {},
   "outputs": [
    {
     "name": "stdout",
     "output_type": "stream",
     "text": [
      "0.9857142857142858\n",
      "0.9533333333333334\n"
     ]
    }
   ],
   "source": [
    "y_train_predict = Class_A.best_estimator_.predict(X_train)\n",
    "print(accuracy_score(y_train, y_train_predict))\n",
    "y_test_predict = Class_A.best_estimator_.predict(X_test)\n",
    "print(accuracy_score(y_test, y_test_predict))\n",
    "\n",
    "y_test_predict_proba = Class_A.predict_proba(X_test)"
   ]
  },
  {
   "cell_type": "markdown",
   "metadata": {},
   "source": [
    "### The optimal value of C is 22.3 and of degree is 2, the accuracy_score of Class_A on train set is 0.9857 and on test set is 0.9533"
   ]
  },
  {
   "cell_type": "code",
   "execution_count": 24,
   "metadata": {},
   "outputs": [
    {
     "name": "stdout",
     "output_type": "stream",
     "text": [
      "ROC: AUC Class 0:  0.9922191098661686\n",
      "ROC: AUC Class 1:  0.9922191098661687\n",
      "Precision-Recall: AUC Class 0: 0.9927528481249008\n",
      "Precision-Recall: AUC Class 1: 0.9922464968760252\n"
     ]
    }
   ],
   "source": [
    "fpr0_test, tpr0_test, thresholds0_test = roc_curve(y_test, y_test_predict_proba[:,0], pos_label = 0) \n",
    "print(\"ROC: AUC Class 0: \", auc(fpr0_test, tpr0_test))\n",
    "\n",
    "fpr1_test, tpr1_test, thresholds1_test = roc_curve(y_test, y_test_predict_proba[:,1], pos_label = 1) \n",
    "print(\"ROC: AUC Class 1: \", auc(fpr1_test, tpr1_test))\n",
    "\n",
    "p0_test, r0_test, thresholds0_test = precision_recall_curve(y_test, y_test_predict_proba[:,0], pos_label = 0)\n",
    "print(\"Precision-Recall: AUC Class 0:\", auc(r0_test, p0_test))\n",
    "\n",
    "p1_test, r1_test, thresholds1_test = precision_recall_curve(y_test, y_test_predict_proba[:,1], pos_label = 1)\n",
    "print(\"Precision-Recall: AUC Class 1:\", auc(r1_test, p1_test))\n"
   ]
  },
  {
   "cell_type": "code",
   "execution_count": 25,
   "metadata": {
    "scrolled": true
   },
   "outputs": [
    {
     "data": {
      "image/png": "[encoded data removed]",
      "text/plain": [
       "<Figure size 1080x360 with 2 Axes>"
      ]
     },
     "metadata": {
      "needs_background": "light"
     },
     "output_type": "display_data"
    }
   ],
   "source": [
    "plt.figure(figsize=(15, 5))\n",
    "\n",
    "plt.subplot(1,2,1)\n",
    "plt.plot(fpr0_test, tpr0_test, \"-\", label = \"Class 0\")\n",
    "plt.plot(fpr1_test, tpr1_test, \"-\", color = 'r', label = \"Class 1\")\n",
    "plt.title(\"ROC\")\n",
    "plt.xlabel(\"False Positive Rate\")\n",
    "plt.ylabel(\"True Positive Rate\")\n",
    "plt.legend()\n",
    "\n",
    "plt.subplot(1,2,2)\n",
    "plt.plot(r0_test, p0_test, \"-\", label = \"Class 0\")\n",
    "plt.plot(r1_test, p1_test, \"-\", color = 'r', label = \"Class 1\")\n",
    "plt.title(\"PR-curve\")\n",
    "plt.xlabel(\"Recall\")\n",
    "plt.ylabel(\"Precision\")\n",
    "plt.legend()\n",
    "\n",
    "plt.show()"
   ]
  },
  {
   "cell_type": "markdown",
   "metadata": {},
   "source": [
    "## 2.2 rbf"
   ]
  },
  {
   "cell_type": "code",
   "execution_count": 26,
   "metadata": {},
   "outputs": [
    {
     "data": {
      "text/plain": [
       "GridSearchCV(cv=3, error_score=nan,\n",
       "             estimator=SVC(C=1.0, break_ties=False, cache_size=200,\n",
       "                           class_weight=None, coef0=0.0,\n",
       "                           decision_function_shape='ovr', degree=3,\n",
       "                           gamma='scale', kernel='rbf', max_iter=-1,\n",
       "                           probability=True, random_state=10, shrinking=True,\n",
       "                           tol=0.001, verbose=False),\n",
       "             iid='deprecated', n_jobs=None,\n",
       "             param_grid={'C': array([  0.1,  11.2,  22.3,  33.4,  44.5,  55.6,  66.7...\n",
       "       7.273e-01, 7.374e-01, 7.475e-01, 7.576e-01, 7.677e-01, 7.778e-01,\n",
       "       7.879e-01, 7.980e-01, 8.081e-01, 8.182e-01, 8.283e-01, 8.384e-01,\n",
       "       8.485e-01, 8.586e-01, 8.687e-01, 8.788e-01, 8.889e-01, 8.990e-01,\n",
       "       9.091e-01, 9.192e-01, 9.293e-01, 9.394e-01, 9.495e-01, 9.596e-01,\n",
       "       9.697e-01, 9.798e-01, 9.899e-01, 1.000e+00])},\n",
       "             pre_dispatch='2*n_jobs', refit=True, return_train_score=False,\n",
       "             scoring=None, verbose=0)"
      ]
     },
     "execution_count": 26,
     "metadata": {},
     "output_type": "execute_result"
    }
   ],
   "source": [
    "param_grid = {'gamma' : np.linspace(0.0001, 1, 100), 'C' : np.linspace(0.1, 100, 10)}\n",
    "mod_svc = SVC(kernel = \"rbf\", probability = True, random_state=10)\n",
    "Class_B = GridSearchCV(mod_svc, param_grid = param_grid, cv = 3)\n",
    "Class_B.fit(X_train, y_train)"
   ]
  },
  {
   "cell_type": "code",
   "execution_count": 27,
   "metadata": {},
   "outputs": [
    {
     "data": {
      "text/plain": [
       "{'C': 22.300000000000004, 'gamma': 0.0405}"
      ]
     },
     "execution_count": 27,
     "metadata": {},
     "output_type": "execute_result"
    }
   ],
   "source": [
    "Class_B.best_params_"
   ]
  },
  {
   "cell_type": "code",
   "execution_count": 28,
   "metadata": {},
   "outputs": [
    {
     "name": "stdout",
     "output_type": "stream",
     "text": [
      "Model Score on X_train: 1.0\n",
      "Model Score on X_test: 0.9567\n"
     ]
    }
   ],
   "source": [
    "print(\"Model Score on X_train: %s\" % round(Class_B.best_estimator_.score(X_train,y_train), 4))\n",
    "print(\"Model Score on X_test: %s\" % round(Class_B.best_estimator_.score(X_test,y_test), 4))"
   ]
  },
  {
   "cell_type": "code",
   "execution_count": 29,
   "metadata": {},
   "outputs": [
    {
     "name": "stdout",
     "output_type": "stream",
     "text": [
      "1.0\n",
      "0.9566666666666667\n"
     ]
    }
   ],
   "source": [
    "y_train_predict = Class_B.best_estimator_.predict(X_train)\n",
    "print(accuracy_score(y_train, y_train_predict))\n",
    "y_test_predict = Class_B.best_estimator_.predict(X_test)\n",
    "print(accuracy_score(y_test, y_test_predict))\n",
    "\n",
    "y_test_predict_proba = Class_B.predict_proba(X_test)"
   ]
  },
  {
   "cell_type": "markdown",
   "metadata": {},
   "source": [
    "### The optimal value of C is 22.3 and of gamma is 0.0405, the accuracy_score of Class_B on train set is 1.0 and on test set is 0.9567"
   ]
  },
  {
   "cell_type": "code",
   "execution_count": 30,
   "metadata": {},
   "outputs": [
    {
     "name": "stdout",
     "output_type": "stream",
     "text": [
      "ROC: AUC Class 0:  0.9931528166822284\n",
      "ROC: AUC Class 1:  0.9931528166822284\n",
      "Precision-Recall: AUC Class 0: 0.9931904603963498\n",
      "Precision-Recall: AUC Class 1: 0.9935269803518492\n"
     ]
    }
   ],
   "source": [
    "fpr0_test, tpr0_test, thresholds0_test = roc_curve(y_test, y_test_predict_proba[:,0], pos_label = 0) \n",
    "print(\"ROC: AUC Class 0: \", auc(fpr0_test, tpr0_test))\n",
    "\n",
    "fpr1_test, tpr1_test, thresholds1_test = roc_curve(y_test, y_test_predict_proba[:,1], pos_label = 1) \n",
    "print(\"ROC: AUC Class 1: \", auc(fpr1_test, tpr1_test))\n",
    "\n",
    "p0_test, r0_test, thresholds0_test = precision_recall_curve(y_test, y_test_predict_proba[:,0], pos_label = 0)\n",
    "print(\"Precision-Recall: AUC Class 0:\", auc(r0_test, p0_test))\n",
    "\n",
    "p1_test, r1_test, thresholds1_test = precision_recall_curve(y_test, y_test_predict_proba[:,1], pos_label = 1)\n",
    "print(\"Precision-Recall: AUC Class 1:\", auc(r1_test, p1_test))\n"
   ]
  },
  {
   "cell_type": "code",
   "execution_count": 31,
   "metadata": {
    "scrolled": true
   },
   "outputs": [
    {
     "data": {
      "image/png": "[encoded data removed]",
      "text/plain": [
       "<Figure size 1080x360 with 2 Axes>"
      ]
     },
     "metadata": {
      "needs_background": "light"
     },
     "output_type": "display_data"
    }
   ],
   "source": [
    "plt.figure(figsize=(15, 5))\n",
    "\n",
    "plt.subplot(1,2,1)\n",
    "plt.plot(fpr0_test, tpr0_test, \"-\", label = \"Class 0\")\n",
    "plt.plot(fpr1_test, tpr1_test, \"-\", color = 'r', label = \"Class 1\")\n",
    "plt.title(\"ROC\")\n",
    "plt.xlabel(\"False Positive Rate\")\n",
    "plt.ylabel(\"True Positive Rate\")\n",
    "plt.legend()\n",
    "\n",
    "plt.subplot(1,2,2)\n",
    "plt.plot(r0_test, p0_test, \"-\", label = \"Class 0\")\n",
    "plt.plot(r1_test, p1_test, \"-\", color = 'r', label = \"Class 1\")\n",
    "plt.title(\"PR-curve\")\n",
    "plt.xlabel(\"Recall\")\n",
    "plt.ylabel(\"Precision\")\n",
    "plt.legend()\n",
    "\n",
    "plt.show()"
   ]
  },
  {
   "cell_type": "markdown",
   "metadata": {},
   "source": [
    "## 2.3 Comparison of Test Results"
   ]
  },
  {
   "cell_type": "markdown",
   "metadata": {},
   "source": [
    "### a) accuracy_score\n",
    "### score_A = 0.9533 < score_B = 0.9567.\n",
    "### Class_B has a better accuracy score."
   ]
  },
  {
   "cell_type": "markdown",
   "metadata": {},
   "source": [
    "### b) ROC: AUC \n",
    "##### Class 0: ___ A: 0.9922191098661686 < B: 0.9931528166822284\n",
    "##### Class 1: ___ A: 0.9922191098661687 < B: 0.9931528166822284\n",
    "\n",
    "### We observe that both ROC:AUC results of Class_B are better than Class_A. Although it is small difference, however, Class_B outperforms Class_A with a slight advantage.\n"
   ]
  },
  {
   "cell_type": "markdown",
   "metadata": {},
   "source": [
    "### c) P_R: AUC\n",
    "##### Class 0: ___ A: 0.9927528481249008 < B: 0.9931904603963498\n",
    "##### Class 1: ___ A: 0.9922464968760252 < B: 0.9935269803518492\n",
    "\n",
    "### We observe that both P_R:AUC results of Class_B are better than Class_A. Although it is small difference, however, Class_B outperforms Class_A with a slight advantage."
   ]
  },
  {
   "cell_type": "markdown",
   "metadata": {},
   "source": [
    "### c) Train Data Overfit\n",
    "### Class_A has a train_accuracy_score=0.9857, which is fine. \n",
    "### Class_B has a train_accuracy_score=1.0 and clearly overfits the train data. However, despite that fact, it still has a very high test_accuracy_score = 0.9567, and it outperforms Class_A."
   ]
  }
 ],
 "metadata": {
  "kernelspec": {
   "display_name": "Python 3",
   "language": "python",
   "name": "python3"
  },
  "language_info": {
   "codemirror_mode": {
    "name": "ipython",
    "version": 3
   },
   "file_extension": ".py",
   "mimetype": "text/x-python",
   "name": "python",
   "nbconvert_exporter": "python",
   "pygments_lexer": "ipython3",
   "version": "3.7.7"
  }
 },
 "nbformat": 4,
 "nbformat_minor": 2
}
